{
 "cells": [
  {
   "cell_type": "markdown",
   "id": "687c626c",
   "metadata": {},
   "source": [
    "# K najbližih komšija"
   ]
  },
  {
   "cell_type": "markdown",
   "id": "a44fb364",
   "metadata": {},
   "source": [
    "### Uvoz neophodnih biblioteka i učitavanje podataka"
   ]
  },
  {
   "cell_type": "code",
   "execution_count": 23,
   "id": "f43273ca",
   "metadata": {},
   "outputs": [],
   "source": [
    "from testbench import Testbench\n",
    "\n",
    "import numpy as np\n",
    "import matplotlib.pyplot as plt\n",
    "import pandas as pd\n",
    "import seaborn as sns\n",
    "from sklearn.model_selection import train_test_split\n"
   ]
  },
  {
   "cell_type": "code",
   "execution_count": 24,
   "id": "2f1c2636",
   "metadata": {},
   "outputs": [
    {
     "name": "stdout",
     "output_type": "stream",
     "text": [
      "⚠️ Greška pri kontaktiranju servera za praćenje napretka.\n"
     ]
    }
   ],
   "source": [
    "Testbench.author('Petar Petrović')"
   ]
  },
  {
   "cell_type": "markdown",
   "id": "f21248fd",
   "metadata": {},
   "source": [
    "U narednom segmentu se podaci i labele učitavaju i dele u trening set i test set. X_train i X_test predstavljaju podatke dok su y_train i y_test odgovarajuće labele datih podataka. "
   ]
  },
  {
   "cell_type": "code",
   "execution_count": 25,
   "id": "c5fb3738",
   "metadata": {},
   "outputs": [],
   "source": [
    "df = pd.read_csv(\"datasets/kNN/data_after_pca.csv\")\n",
    "data = []\n",
    "\n",
    "data.append(df[\"PC1\"])\n",
    "data.append(df[\"PC2\"])\n",
    "data = np.array(data)\n",
    "data = np.transpose(data)\n",
    "\n",
    "true_labels = np.array(df[\"NObeyesdad\"])"
   ]
  },
  {
   "cell_type": "code",
   "execution_count": 26,
   "id": "bd42fec4",
   "metadata": {},
   "outputs": [],
   "source": [
    "X_train, X_test, y_train, y_test = train_test_split(data, true_labels, test_size = 0.20)\n",
    "X_train = np.array(X_train)\n",
    "X_test = np.array(X_test)\n",
    "y_train = np.array(y_train)\n",
    "y_test = np.array(y_test)"
   ]
  },
  {
   "cell_type": "code",
   "execution_count": null,
   "id": "94415375",
   "metadata": {},
   "outputs": [],
   "source": []
  },
  {
   "cell_type": "markdown",
   "id": "397d0862",
   "metadata": {},
   "source": [
    "### Klasifikacija"
   ]
  },
  {
   "cell_type": "markdown",
   "id": "3ace290d",
   "metadata": {},
   "source": [
    "Sledećih nekoliko ćelija predstavlja implementaciju metoda k-nearest neighbours kao i određivanje tačnosti izvršenog predviđanja klasa. U ovom segmentu je neophodno dopuniti i ispraviti naznačene delove koda."
   ]
  },
  {
   "cell_type": "code",
   "execution_count": 28,
   "id": "5d57876f",
   "metadata": {},
   "outputs": [
    {
     "ename": "TypeError",
     "evalue": "kNN() takes 3 positional arguments but 4 were given",
     "output_type": "error",
     "traceback": [
      "\u001B[1;31m---------------------------------------------------------------------------\u001B[0m",
      "\u001B[1;31mTypeError\u001B[0m                                 Traceback (most recent call last)",
      "\u001B[1;32mC:\\Users\\JN2001~1\\AppData\\Local\\Temp/ipykernel_988/3273715090.py\u001B[0m in \u001B[0;36m<module>\u001B[1;34m\u001B[0m\n\u001B[0;32m     31\u001B[0m     \u001B[1;32mreturn\u001B[0m \u001B[0mnp\u001B[0m\u001B[1;33m.\u001B[0m\u001B[0marray\u001B[0m\u001B[1;33m(\u001B[0m\u001B[0mpredictions\u001B[0m\u001B[1;33m)\u001B[0m\u001B[1;33m\u001B[0m\u001B[1;33m\u001B[0m\u001B[0m\n\u001B[0;32m     32\u001B[0m \u001B[1;33m\u001B[0m\u001B[0m\n\u001B[1;32m---> 33\u001B[1;33m \u001B[0mTestbench\u001B[0m\u001B[1;33m(\u001B[0m\u001B[0mkNN\u001B[0m\u001B[1;33m)\u001B[0m\u001B[1;33m\u001B[0m\u001B[1;33m\u001B[0m\u001B[0m\n\u001B[0m",
      "\u001B[1;32m~\\OneDrive - student.etf.bg.ac.rs\\Documents\\GitHub\\jupyter-testbench\\testbench\\__init__.py\u001B[0m in \u001B[0;36m__init__\u001B[1;34m(self, func)\u001B[0m\n\u001B[0;32m     26\u001B[0m         \u001B[0mself\u001B[0m\u001B[1;33m.\u001B[0m\u001B[0mfailed\u001B[0m\u001B[1;33m:\u001B[0m \u001B[0mint\u001B[0m\u001B[1;33m\u001B[0m\u001B[1;33m\u001B[0m\u001B[0m\n\u001B[0;32m     27\u001B[0m \u001B[1;33m\u001B[0m\u001B[0m\n\u001B[1;32m---> 28\u001B[1;33m         \u001B[1;32mif\u001B[0m \u001B[0mself\u001B[0m\u001B[1;33m.\u001B[0m\u001B[0m__run_test\u001B[0m\u001B[1;33m(\u001B[0m\u001B[1;33m)\u001B[0m\u001B[1;33m:\u001B[0m\u001B[1;33m\u001B[0m\u001B[1;33m\u001B[0m\u001B[0m\n\u001B[0m\u001B[0;32m     29\u001B[0m             \u001B[0mself\u001B[0m\u001B[1;33m.\u001B[0m\u001B[0m__show_score\u001B[0m\u001B[1;33m(\u001B[0m\u001B[1;33m)\u001B[0m\u001B[1;33m\u001B[0m\u001B[1;33m\u001B[0m\u001B[0m\n\u001B[0;32m     30\u001B[0m             \u001B[0mself\u001B[0m\u001B[1;33m.\u001B[0m\u001B[0m__publish_score\u001B[0m\u001B[1;33m(\u001B[0m\u001B[1;33m)\u001B[0m\u001B[1;33m\u001B[0m\u001B[1;33m\u001B[0m\u001B[0m\n",
      "\u001B[1;32m~\\OneDrive - student.etf.bg.ac.rs\\Documents\\GitHub\\jupyter-testbench\\testbench\\__init__.py\u001B[0m in \u001B[0;36m__run_test\u001B[1;34m(self)\u001B[0m\n\u001B[0;32m     42\u001B[0m \u001B[1;33m\u001B[0m\u001B[0m\n\u001B[0;32m     43\u001B[0m         \u001B[1;32mif\u001B[0m \u001B[0mtest_name\u001B[0m \u001B[1;32min\u001B[0m \u001B[0mglobals\u001B[0m\u001B[1;33m(\u001B[0m\u001B[1;33m)\u001B[0m\u001B[1;33m:\u001B[0m\u001B[1;33m\u001B[0m\u001B[1;33m\u001B[0m\u001B[0m\n\u001B[1;32m---> 44\u001B[1;33m             \u001B[0mglobals\u001B[0m\u001B[1;33m(\u001B[0m\u001B[1;33m)\u001B[0m\u001B[1;33m[\u001B[0m\u001B[0mtest_name\u001B[0m\u001B[1;33m]\u001B[0m\u001B[1;33m(\u001B[0m\u001B[0mself\u001B[0m\u001B[1;33m)\u001B[0m\u001B[1;33m\u001B[0m\u001B[1;33m\u001B[0m\u001B[0m\n\u001B[0m\u001B[0;32m     45\u001B[0m             \u001B[0mself\u001B[0m\u001B[1;33m.\u001B[0m\u001B[0mscore\u001B[0m \u001B[1;33m=\u001B[0m \u001B[0mint\u001B[0m\u001B[1;33m(\u001B[0m\u001B[0mself\u001B[0m\u001B[1;33m.\u001B[0m\u001B[0mpassed\u001B[0m \u001B[1;33m/\u001B[0m \u001B[1;33m(\u001B[0m\u001B[0mself\u001B[0m\u001B[1;33m.\u001B[0m\u001B[0mpassed\u001B[0m \u001B[1;33m+\u001B[0m \u001B[0mself\u001B[0m\u001B[1;33m.\u001B[0m\u001B[0mfailed\u001B[0m\u001B[1;33m)\u001B[0m \u001B[1;33m*\u001B[0m \u001B[1;36m100\u001B[0m\u001B[1;33m)\u001B[0m\u001B[1;33m\u001B[0m\u001B[1;33m\u001B[0m\u001B[0m\n\u001B[0;32m     46\u001B[0m             \u001B[1;32mreturn\u001B[0m \u001B[1;32mTrue\u001B[0m\u001B[1;33m\u001B[0m\u001B[1;33m\u001B[0m\u001B[0m\n",
      "\u001B[1;32m~\\OneDrive - student.etf.bg.ac.rs\\Documents\\GitHub\\jupyter-testbench\\testbench\\tests\\kNN.py\u001B[0m in \u001B[0;36mtest_kNN\u001B[1;34m(bench)\u001B[0m\n\u001B[0;32m     28\u001B[0m     \u001B[0my_test\u001B[0m \u001B[1;33m=\u001B[0m \u001B[0mnp\u001B[0m\u001B[1;33m.\u001B[0m\u001B[0marray\u001B[0m\u001B[1;33m(\u001B[0m\u001B[0my_test\u001B[0m\u001B[1;33m)\u001B[0m\u001B[1;33m\u001B[0m\u001B[1;33m\u001B[0m\u001B[0m\n\u001B[0;32m     29\u001B[0m \u001B[1;33m\u001B[0m\u001B[0m\n\u001B[1;32m---> 30\u001B[1;33m     \u001B[0mpredicted_labels\u001B[0m \u001B[1;33m=\u001B[0m \u001B[0mbench\u001B[0m\u001B[1;33m.\u001B[0m\u001B[0mfunction\u001B[0m\u001B[1;33m(\u001B[0m\u001B[0mX_test\u001B[0m\u001B[1;33m,\u001B[0m \u001B[0mX_train\u001B[0m\u001B[1;33m,\u001B[0m \u001B[0my_train\u001B[0m\u001B[1;33m)\u001B[0m\u001B[1;33m\u001B[0m\u001B[1;33m\u001B[0m\u001B[0m\n\u001B[0m\u001B[0;32m     31\u001B[0m \u001B[1;33m\u001B[0m\u001B[0m\n\u001B[0;32m     32\u001B[0m     \u001B[1;32mfor\u001B[0m \u001B[0mi\u001B[0m \u001B[1;32min\u001B[0m \u001B[0mrange\u001B[0m\u001B[1;33m(\u001B[0m\u001B[0mlen\u001B[0m\u001B[1;33m(\u001B[0m\u001B[0my_test\u001B[0m\u001B[1;33m)\u001B[0m\u001B[1;33m)\u001B[0m\u001B[1;33m:\u001B[0m\u001B[1;33m\u001B[0m\u001B[1;33m\u001B[0m\u001B[0m\n",
      "\u001B[1;31mTypeError\u001B[0m: kNN() takes 3 positional arguments but 4 were given"
     ]
    }
   ],
   "source": [
    "def kNN(X_test: np.ndarray, X_train: np.ndarray, Y_train: np.ndarray) -> np.ndarray:\n",
    "    \n",
    "    #odabrati vrednost k tako da dati algoritam daje što bolji rezultat u zadatom slučaju\n",
    "    k = 1 \n",
    "    \n",
    "    predictions = []\n",
    "   \n",
    "    for test_point in X_test:\n",
    "        min_dist = []\n",
    "        \n",
    "        for i, point in enumerate(X_train):\n",
    "            #za svaku vrednost iz seta za treniranje izračunati Euklidsku distancu od vrednosti iz test seta\n",
    "            # i beležiti u nizu min_dist\n",
    "            #uneti kod ovde\n",
    "            \n",
    "                \n",
    "            # sortiranje Euklidskih udaljenosti u nerastućem poretku\n",
    "            min_dist.sort(key=lambda x: x[1])\n",
    "\n",
    "            #izvući k vrednosti iz min_dist sa najmanjom distancom i njihove odgovarajuće indekse\n",
    "            #uneti kod ovde\n",
    "            neighbours = None\n",
    "            idx = []\n",
    "        \n",
    "            #odrediti koja labela datih k vrednosti se najčešće pojavljuje\n",
    "            #uneti kod ovde \n",
    "        \n",
    "            predicted_label = None\n",
    "            predictions.append(predicted_label)\n",
    "\n",
    "    return np.array(predictions)\n",
    "\n",
    "Testbench(kNN)"
   ]
  },
  {
   "cell_type": "code",
   "execution_count": null,
   "id": "4c7d5604",
   "metadata": {},
   "outputs": [],
   "source": []
  },
  {
   "cell_type": "code",
   "execution_count": null,
   "id": "2d40e361",
   "metadata": {},
   "outputs": [],
   "source": [
    "predictions = kNN(X_test, X_train, y_train)"
   ]
  },
  {
   "cell_type": "code",
   "execution_count": null,
   "id": "d23bb7d5",
   "metadata": {},
   "outputs": [],
   "source": [
    "def accuracy(pred , y_test):\n",
    "    #prepraviti kod tako da računa tačnost klasifikacije kao odnos tačno određenih klasa i ukupnog broja primera\n",
    "            \n",
    "    return None"
   ]
  },
  {
   "cell_type": "code",
   "execution_count": null,
   "id": "d24040dc",
   "metadata": {},
   "outputs": [],
   "source": [
    "#pozivanje funkcije za računanje tačnosti i štampanje vrednosti\n",
    "print(accuracy(predictions, y_test))"
   ]
  },
  {
   "cell_type": "markdown",
   "id": "c502cf70",
   "metadata": {},
   "source": [
    "### Vizuelizacija rezultata klasifikacije"
   ]
  },
  {
   "cell_type": "code",
   "execution_count": null,
   "id": "6f3e2db8",
   "metadata": {},
   "outputs": [],
   "source": [
    "pcadf_train = pd.DataFrame(X_train, columns=[\"component_1\", \"component_2\"])\n",
    "pcadf_train[\"label\"] = y_train\n",
    "plt.figure(figsize=(9, 9))\n",
    "\n",
    "pcadf = pd.DataFrame(X_test, columns=[\"component_1\", \"component_2\"])\n",
    "pcadf[\"prediction\"] = predictions\n",
    "pcadf[\"label\"] = y_test\n",
    "\n",
    "scat = sns.scatterplot(\n",
    "    x=\"component_1\",\n",
    "    y=\"component_2\",\n",
    "    s=50,\n",
    "    data=pcadf,\n",
    "    hue=\"prediction\",\n",
    "    style=\"label\",\n",
    "    palette=\"Set1\",\n",
    "    legend=\"auto\"\n",
    ")\n",
    "scat.set_title(\"kNN classification results\")\n",
    "plt.xlabel(\"Feature 1\")\n",
    "plt.ylabel(\"Feature 2\")\n",
    "plt.legend(bbox_to_anchor=(1.05, 1), loc=2, borderaxespad=0.0)\n",
    "plt.show()"
   ]
  },
  {
   "cell_type": "code",
   "execution_count": null,
   "id": "6c08a5dd",
   "metadata": {},
   "outputs": [],
   "source": []
  }
 ],
 "metadata": {
  "kernelspec": {
   "display_name": "PyCharm (jupyter-testbench)",
   "language": "python",
   "name": "pycharm-4342de7"
  },
  "language_info": {
   "codemirror_mode": {
    "name": "ipython",
    "version": 3
   },
   "file_extension": ".py",
   "mimetype": "text/x-python",
   "name": "python",
   "nbconvert_exporter": "python",
   "pygments_lexer": "ipython3",
   "version": "3.8.5"
  }
 },
 "nbformat": 4,
 "nbformat_minor": 5
}