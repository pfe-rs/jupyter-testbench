{
 "cells": [
  {
   "cell_type": "markdown",
   "metadata": {},
   "source": [
    "#### Učitavanje potrebnih biblioteka "
   ]
  },
  {
   "cell_type": "code",
   "execution_count": 9,
   "metadata": {},
   "outputs": [],
   "source": [
    "from scipy.fft import fft\n",
    "import IPython\n",
    "from scipy.io import wavfile\n",
    "import ipywidgets as widgets\n",
    "import numpy as np"
   ]
  },
  {
   "cell_type": "code",
   "execution_count": 3,
   "metadata": {},
   "outputs": [],
   "source": [
    "# Pomocna funkcija za plotovanje\n",
    "\n",
    "def stemSequence(x, y, plotName = 'MyPlot', stemColor = 'tab:blue', xlims = [], ylims = [], xlabel = '', ylabel = '', showLegend = True):\n",
    "    markerline, stemlines, baseline = plt.stem(x, y, stemColor, label = plotName)\n",
    "    plt.setp(markerline, 'markerfacecolor', stemColor, 'markeredgecolor', stemColor)\n",
    "    if xlabel != '':\n",
    "        plt.xlabel(xlabel)\n",
    "    if ylabel != '':\n",
    "        plt.ylabel(ylabel)\n",
    "    if xlims != []:\n",
    "        plt.xlim(xlims)\n",
    "    if ylims != []:\n",
    "        plt.ylim(ylims)\n",
    "    if showLegend:\n",
    "        plt.legend(loc = 'upper right')"
   ]
  },
  {
   "cell_type": "markdown",
   "metadata": {},
   "source": [
    "## Vežbe za samostalni rad"
   ]
  },
  {
   "cell_type": "markdown",
   "metadata": {},
   "source": [
    "#### Kreiranje padajućeg menija"
   ]
  },
  {
   "cell_type": "code",
   "execution_count": 4,
   "metadata": {},
   "outputs": [],
   "source": [
    "USE_WIDGETS = False\n",
    "\n",
    "def importEssentialLibs(USE_WIDGETS):\n",
    "    import numpy as np\n",
    "    if USE_WIDGETS:\n",
    "        %matplotlib widget\n",
    "    else:\n",
    "        %matplotlib inline\n",
    "    import matplotlib as mpl\n",
    "    mpl.rc('text', usetex = False)\n",
    "    mpl.rc('font', family = 'serif', size = 18)\n",
    "    import matplotlib.pyplot as plt\n",
    "    \n",
    "    return np, mpl, plt"
   ]
  },
  {
   "cell_type": "markdown",
   "metadata": {},
   "source": [
    "### Zadatak: \n",
    "Napraviti funkcije koje za uneti signal u vremenskom domenu $x(t)$ vraćaju redom amplitudske i fazne karakteristike ovog signala u frekvencijskom domenu. Nakon toga, pozvati već implementiranu funkciju za prikaz ovih karakteristika ()"
   ]
  },
  {
   "cell_type": "code",
   "execution_count": 11,
   "metadata": {},
   "outputs": [
    {
     "ename": "NameError",
     "evalue": "name 'amp' is not defined",
     "output_type": "error",
     "traceback": [
      "\u001b[1;31m---------------------------------------------------------------------------\u001b[0m",
      "\u001b[1;31mNameError\u001b[0m                                 Traceback (most recent call last)",
      "\u001b[1;32m<ipython-input-11-d199ccaf2a77>\u001b[0m in \u001b[0;36m<module>\u001b[1;34m\u001b[0m\n\u001b[0;32m     27\u001b[0m \u001b[1;33m\u001b[0m\u001b[0m\n\u001b[0;32m     28\u001b[0m \u001b[1;31m# racunanje amplitudske karakteristike\u001b[0m\u001b[1;33m\u001b[0m\u001b[1;33m\u001b[0m\u001b[1;33m\u001b[0m\u001b[0m\n\u001b[1;32m---> 29\u001b[1;33m \u001b[0mX_amp\u001b[0m \u001b[1;33m=\u001b[0m \u001b[0mreturnAmpCharacteristic\u001b[0m\u001b[1;33m(\u001b[0m\u001b[0mx\u001b[0m\u001b[1;33m)\u001b[0m\u001b[1;33m\u001b[0m\u001b[1;33m\u001b[0m\u001b[0m\n\u001b[0m\u001b[0;32m     30\u001b[0m \u001b[1;33m\u001b[0m\u001b[0m\n\u001b[0;32m     31\u001b[0m \u001b[1;31m# racunanje fazne karakteristike\u001b[0m\u001b[1;33m\u001b[0m\u001b[1;33m\u001b[0m\u001b[1;33m\u001b[0m\u001b[0m\n",
      "\u001b[1;32m<ipython-input-11-d199ccaf2a77>\u001b[0m in \u001b[0;36mreturnAmpCharacteristic\u001b[1;34m(x)\u001b[0m\n\u001b[0;32m      5\u001b[0m     \u001b[1;31m# ovde dopunite funkciju za racunanje amplitudske karakteristike\u001b[0m\u001b[1;33m\u001b[0m\u001b[1;33m\u001b[0m\u001b[1;33m\u001b[0m\u001b[0m\n\u001b[0;32m      6\u001b[0m \u001b[1;33m\u001b[0m\u001b[0m\n\u001b[1;32m----> 7\u001b[1;33m     \u001b[1;32mreturn\u001b[0m \u001b[0mamp\u001b[0m\u001b[1;33m\u001b[0m\u001b[1;33m\u001b[0m\u001b[0m\n\u001b[0m\u001b[0;32m      8\u001b[0m \u001b[1;33m\u001b[0m\u001b[0m\n\u001b[0;32m      9\u001b[0m \u001b[1;32mdef\u001b[0m \u001b[0mreturnPhaseCharacteristic\u001b[0m\u001b[1;33m(\u001b[0m\u001b[0mx\u001b[0m\u001b[1;33m:\u001b[0m \u001b[0mnp\u001b[0m\u001b[1;33m.\u001b[0m\u001b[0marray\u001b[0m\u001b[1;33m)\u001b[0m \u001b[1;33m->\u001b[0m \u001b[0mnp\u001b[0m\u001b[1;33m.\u001b[0m\u001b[0marray\u001b[0m\u001b[1;33m:\u001b[0m\u001b[1;33m\u001b[0m\u001b[1;33m\u001b[0m\u001b[0m\n",
      "\u001b[1;31mNameError\u001b[0m: name 'amp' is not defined"
     ]
    }
   ],
   "source": [
    "np, mpl, plt = importEssentialLibs(USE_WIDGETS)\n",
    "plt.rcParams[\"figure.figsize\"] = (10,6)\n",
    "\n",
    "def returnAmpCharacteristic(x: np.array) -> np.array:\n",
    "    # ovde dopunite funkciju za racunanje amplitudske karakteristike\n",
    "    \n",
    "    return amp\n",
    "\n",
    "def returnPhaseCharacteristic(x: np.array) -> np.array:\n",
    "    # ovde dopunite funkciju za racunanje fazne karakteristike\n",
    "    \n",
    "    return phase\n",
    "\n",
    "N = 32\n",
    "\n",
    "# relativne ucestanosti\n",
    "F1 = 1/8  \n",
    "F2 = 3/8\n",
    "#pocetne faze\n",
    "Phi1 = 0 # np.pi/3, 2*np.pi/3 \n",
    "Phi2 = np.pi/3\n",
    "\n",
    "n = np.arange(N)\n",
    "k = np.arange(N)\n",
    "\n",
    "x = np.cos(2*np.pi*F1*n + Phi1) + np.cos(2*np.pi*F2*n + Phi2)\n",
    "\n",
    "# racunanje amplitudske karakteristike\n",
    "X_amp = returnAmpCharacteristic(x)\n",
    "\n",
    "# racunanje fazne karakteristike\n",
    "X_phase = returnPhaseCharacteristic(x)\n",
    "# Prikaz originalnog signala\n",
    "plt.figure()\n",
    "\n",
    "# dopuniti parametre funkcije za prikaz originalnog signala\n",
    "stemSequence( plotName = 'Signal', xlabel = r'$n$', ylabel = r'$x[n]$')\n",
    "\n",
    "\n",
    "#Prikaz amplitudskih i faznih karakteristika\n",
    "plt.figure()\n",
    "\n",
    "#dopuniti paremetre funkcija za prikaz amplitudskih i faznih karakteristika signala\n",
    "stemSequence( plotName = 'Amplitudska karakteristika', xlabel = r'$k$', ylabel = r'$|X[k]|$')\n",
    "stemSequence( plotName = 'Fazna karakteristika', stemColor = 'tab:red', xlabel = r'$k$', ylabel = r'$\\angle(X[k])$')"
   ]
  },
  {
   "cell_type": "code",
   "execution_count": 12,
   "metadata": {},
   "outputs": [
    {
     "data": {
      "application/vnd.jupyter.widget-view+json": {
       "model_id": "ccb3561f5ec44a158e56222693b6d7dc",
       "version_major": 2,
       "version_minor": 0
      },
      "text/plain": [
       "interactive(children=(Dropdown(description='filename', options=('01_guitar_E2.wav', '02_guitar_A2.wav', '03_gu…"
      ]
     },
     "metadata": {},
     "output_type": "display_data"
    }
   ],
   "source": [
    "\n",
    "def loadSignalAndPlotSpectra(filename):\n",
    "    fs, x = wavfile.read(\"datasets/sounds/\"+filename)\n",
    "    IPython.display.display(IPython.display.Audio(x, rate = fs))\n",
    "\n",
    "    N = len(x)\n",
    "    X = fft(x)\n",
    "    \n",
    "    if \"guitar\" in filename:\n",
    "        fMaxShow = 2000\n",
    "    else:\n",
    "        fMaxShow = 6000\n",
    "    \n",
    "    Nmax = fMaxShow*N//fs\n",
    "    f = fs*np.arange(Nmax)/N\n",
    "\n",
    "    # only part of the spectra\n",
    "    X = X[:len(f)];\n",
    "    \n",
    "    # Plot spectra\n",
    "    fig = plt.figure(figsize = [6, 4])\n",
    "    plt.plot(f, abs(X))\n",
    "    plt.subplots_adjust(bottom=0.15, left=0.15)\n",
    "    plt.xlabel(r'$f$ [Hz]')\n",
    "    plt.ylabel(r'$|X[k]|$')\n",
    "    \n",
    "    # Plot signal\n",
    "    fig = plt.figure(figsize = [6, 4])\n",
    "    n = np.arange(N//10, N//10 + 2000)\n",
    "    t = n/fs\n",
    "    plt.plot(t, x[n])\n",
    "    plt.subplots_adjust(bottom=0.15, left=0.15)\n",
    "    plt.xlabel(r'$t$ [s]')\n",
    "    plt.ylabel(r'$x(t)$')\n",
    "     \n",
    "widgets.interact(loadSignalAndPlotSpectra, filename=[\"01_guitar_E2.wav\",  \n",
    "                                                     \"02_guitar_A2.wav\", \n",
    "                                                     \"03_guitar_D3.wav\", \n",
    "                                                     \"04_guitar_G3.wav\",\n",
    "                                                     \"05_guitar_H3.wav\",\n",
    "                                                     \"06_guitar_E4.wav\",\n",
    "                                                     \"07_clarinet_A.wav\",\n",
    "                                                     \"08_violin_H.wav\"]);"
   ]
  }
 ],
 "metadata": {
  "interpreter": {
   "hash": "27408ad9a6cf84cef8968aa02d180be2ec57e013a23525a6b3944a973001aba3"
  },
  "kernelspec": {
   "display_name": "Python 3",
   "language": "python",
   "name": "python3"
  },
  "language_info": {
   "codemirror_mode": {
    "name": "ipython",
    "version": 3
   },
   "file_extension": ".py",
   "mimetype": "text/x-python",
   "name": "python",
   "nbconvert_exporter": "python",
   "pygments_lexer": "ipython3",
   "version": "3.9.5"
  }
 },
 "nbformat": 4,
 "nbformat_minor": 2
}
