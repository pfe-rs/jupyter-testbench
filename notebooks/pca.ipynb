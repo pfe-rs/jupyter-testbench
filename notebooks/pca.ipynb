{
 "cells": [
  {
   "cell_type": "code",
   "execution_count": 3,
   "metadata": {},
   "outputs": [],
   "source": [
    "import pandas as pd\n",
    "import numpy as np\n",
    "from testbench import Testbench"
   ]
  },
  {
   "cell_type": "markdown",
   "metadata": {},
   "source": [
    "# Principal Component Analysis\n",
    "\n",
    "U ovoj vežbi implementiraćemo PCA algortiam za redukciju dimenzionalnosti nad podacima iz prethodne pokazne vežbe (exploratorz_data_analysis).\n",
    "\n",
    "Vežba će se sastojati iz dva koraka:\n",
    "\n",
    "1. Izdvajanje najboljih $N$ fičera na osnovu koeficijenata korelacije sa klasama\n",
    "2. Implementacija PCA algoritma nad izdvojenim fičerima koji će izvršiti redukciju dimenzionalnosti na zadati broj dimenzija\n"
   ]
  },
  {
   "cell_type": "markdown",
   "metadata": {},
   "source": [
    "## 1. Izdvajanje top $N$ fičera"
   ]
  },
  {
   "cell_type": "code",
   "execution_count": 8,
   "metadata": {},
   "outputs": [],
   "source": [
    "def covariance_reduce(X: pd.DataFrame, targets: pd.DataFrame, N: int = 10) -> np.array:\n",
    "    # Potrebno je prvo spojiti DataFrame-ove fičera i klasa u jedan, \n",
    "    # a onda izračunati korelacionu matricu (funkcija .corr() može biti korisna ovde)\n",
    "\n",
    "\n",
    "    # Izdvojiti top N fičera na osnovu poslednje kolone korelacione matrice\n",
    "    # Hint 1: Za pronalaženje najvećih korelacija može koristiti funkcija np.argsort,\n",
    "    #         ili prolasci for petljama"
   ]
  },
  {
   "cell_type": "code",
   "execution_count": null,
   "metadata": {},
   "outputs": [],
   "source": [
    "Testbench(covariance_reduce)"
   ]
  },
  {
   "cell_type": "markdown",
   "metadata": {},
   "source": [
    "## 2. PCA\n",
    "\n",
    "Podsetnik:\n",
    "$$ X_{redukovano}^T = V^T \\times X^T $$\n",
    "\n",
    "gde su:\n",
    "- $X$: ulazni podaci\n",
    "- $X_{redukovano}$: podaci nakon redukcije\n",
    "- $V$: podskup sopstvenih vektora"
   ]
  },
  {
   "cell_type": "code",
   "execution_count": 15,
   "metadata": {},
   "outputs": [],
   "source": [
    "def pca(X: np.array, M: int) -> np.array:\n",
    "\n",
    "    # Step 1: Izračunaj kovariacionu matricu od X.T\n",
    "    # Step 2: Izračunaj sopstvene vrednosti i vektore\n",
    "    # Step 3: Odabrati top M sopstvenih vektora na osnovu sopstvenih vrednosti\n",
    "    #         Hint: np.argsort\n",
    "    # Step 4: Primeniti Transformaciju nad podacima: \n",
    "    \n",
    "    \n",
    "    ###############\n",
    "    # TODO Popuni #\n",
    "    ###############\n"
   ]
  },
  {
   "cell_type": "code",
   "execution_count": null,
   "metadata": {},
   "outputs": [],
   "source": [
    "Testbench(pca)"
   ]
  },
  {
   "cell_type": "markdown",
   "metadata": {},
   "source": [
    "# Vizualizacija podataka\n",
    "Nakon redukcije dimenzionalnosti na 1, 2 ili 3 dimenzije možemo ivršiti vizualizaciju podataka.\n",
    "U nastavku je primer našeg dataset-a za redukciju na 2 dimenzije.\n",
    "\n",
    "![4 Klase](figures/4_classes.png)"
   ]
  }
 ],
 "metadata": {
  "interpreter": {
   "hash": "767d51c1340bd893661ea55ea3124f6de3c7a262a8b4abca0554b478b1e2ff90"
  },
  "kernelspec": {
   "display_name": "Python 3.8.10 64-bit",
   "name": "python3"
  },
  "language_info": {
   "codemirror_mode": {
    "name": "ipython",
    "version": 3
   },
   "file_extension": ".py",
   "mimetype": "text/x-python",
   "name": "python",
   "nbconvert_exporter": "python",
   "pygments_lexer": "ipython3",
   "version": "3.8.10"
  },
  "orig_nbformat": 4
 },
 "nbformat": 4,
 "nbformat_minor": 2
}
