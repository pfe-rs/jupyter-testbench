{
 "cells": [
  {
   "cell_type": "markdown",
   "metadata": {},
   "source": [
    "# Увод и опис проблема\n",
    "\n",
    "У овој вежби ћемо научити како се већ истрениран модел на неком сету података може адаптирати на други сет података."
   ]
  },
  {
   "cell_type": "markdown",
   "metadata": {},
   "source": [
    "**У задацима попунити само део кода означен са 3 тарабе (###).**"
   ]
  },
  {
   "cell_type": "markdown",
   "metadata": {},
   "source": [
    "Имплементирти функцију **image_loader** која учитава слику са задате локације **path**, трансформише копију слике из BGR (0-255) формата који користи OpenCV у RGB (0.0 - 1.0),а затим враћа **Tensor** слике."
   ]
  },
  {
   "cell_type": "code",
   "execution_count": 1,
   "metadata": {},
   "outputs": [
    {
     "ename": "ModuleNotFoundError",
     "evalue": "No module named 'testbench'",
     "output_type": "error",
     "traceback": [
      "\u001b[1;31m---------------------------------------------------------------------------\u001b[0m",
      "\u001b[1;31mModuleNotFoundError\u001b[0m                       Traceback (most recent call last)",
      "\u001b[1;32m~\\AppData\\Local\\Temp/ipykernel_8368/288731164.py\u001b[0m in \u001b[0;36m<module>\u001b[1;34m\u001b[0m\n\u001b[0;32m      2\u001b[0m \u001b[1;32mimport\u001b[0m \u001b[0mcv2\u001b[0m\u001b[1;33m\u001b[0m\u001b[1;33m\u001b[0m\u001b[0m\n\u001b[0;32m      3\u001b[0m \u001b[1;32mimport\u001b[0m \u001b[0mtyping\u001b[0m\u001b[1;33m\u001b[0m\u001b[1;33m\u001b[0m\u001b[0m\n\u001b[1;32m----> 4\u001b[1;33m \u001b[1;32mfrom\u001b[0m \u001b[0mtestbench\u001b[0m \u001b[1;32mimport\u001b[0m \u001b[0mTestbench\u001b[0m\u001b[1;33m\u001b[0m\u001b[1;33m\u001b[0m\u001b[0m\n\u001b[0m",
      "\u001b[1;31mModuleNotFoundError\u001b[0m: No module named 'testbench'"
     ]
    }
   ],
   "source": [
    "import torch\n",
    "import cv2\n",
    "import typing\n",
    "from testbench import Testbench"
   ]
  },
  {
   "cell_type": "code",
   "execution_count": null,
   "metadata": {
    "scrolled": true
   },
   "outputs": [],
   "source": [
    "def image_loader(path: str) -> torch.Tensor:\n",
    "    image = (cv2.imread(path).astype(\"float32\") / 255.0)[:, :, ::-1].copy()\n",
    "    return torch.from_numpy(image.transpose(2, 0, 1))"
   ]
  },
  {
   "cell_type": "code",
   "execution_count": null,
   "metadata": {},
   "outputs": [],
   "source": [
    "'''Test'''\n",
    "Testbench(image_loader)"
   ]
  },
  {
   "cell_type": "markdown",
   "metadata": {},
   "source": [
    "Имплементирати callable класе **RandomGamma** и **ClipImage**.\n",
    "<ul>\n",
    "    <li>RandomGamma - Ствара се са аргументом <em>random_gamma_delta</em>. Када се позове примењује гама филтер са вредношћу која има униформну расподелу у интервалу [1 - <em>random_gamma_delta</em> , 1 + <em>random_gamma_delta</em> ]</li>\n",
    "    <li>ClipImage - Ствара се без аргумената. Када се позове клипује све вредности у интервал [0, 1]</li>\n",
    "</ul>"
   ]
  },
  {
   "cell_type": "code",
   "execution_count": null,
   "metadata": {},
   "outputs": [],
   "source": [
    "import numpy as np\n",
    "class ClipImage():\n",
    "    def __call__(self, image):\n",
    "        return np.clip(image, 0.0, 1.0)\n",
    "\n",
    "    def __repr__(self):\n",
    "        return 'ClipImage()'\n",
    "\n",
    "class RandomGamma():\n",
    "    def __init__(self, random_gamma_delta):\n",
    "        self.gamma_range = 1.0 - random_gamma_delta, 1.0 + random_gamma_delta\n",
    "\n",
    "    def __call__(self, image):\n",
    "        return np.power(image, np.random.uniform(*self.gamma_range))\n",
    "\n",
    "    def __repr__(self):\n",
    "        return 'RandomGamma('+str(self.gamma_range)+')'"
   ]
  },
  {
   "cell_type": "code",
   "execution_count": null,
   "metadata": {},
   "outputs": [],
   "source": [
    "def getRandomGamma(randaom_gamma_delta : float) -> torch.Tensor:\n",
    "    return RandomGamma(randaom_gamma_delta)\n",
    "\n",
    "def getClipImage() -> torch.Tensor:\n",
    "    return ClipImage()"
   ]
  },
  {
   "cell_type": "code",
   "execution_count": null,
   "metadata": {},
   "outputs": [],
   "source": [
    "'''Test'''\n",
    "Testbench(getRandomGamma)\n",
    "Testbench(getClipImage)"
   ]
  },
  {
   "cell_type": "markdown",
   "metadata": {},
   "source": [
    "Имплементирати функцију **composed_transforms** која враћа композицију следећих трансформација и филтера:\n",
    "\n",
    "<ul>\n",
    "    <li>RandomGamma филтер са <em>random_gamma_delta</em> = 0.3,</li>\n",
    "    <li>ClipImage, </li>\n",
    "    <li>Трансформација у PLI слику, </li>\n",
    "    <li>Промена величине слике tako da W=H=224, </li>\n",
    "    <li>Произвољни оризонтални флип, </li>\n",
    "    <li>Произвољни вертикални флип, </li>\n",
    "    <li>Трансфформација натраг у тенсор и </li>\n",
    "    <li>Нормализацију сваког канала: R(mean=0.485, std=0.229), G(mean=0.456, std=0.224), B(mean=0.406, std=0.225) </li>\n",
    "</ul>"
   ]
  },
  {
   "cell_type": "code",
   "execution_count": null,
   "metadata": {},
   "outputs": [],
   "source": [
    "import torchvision"
   ]
  },
  {
   "cell_type": "code",
   "execution_count": null,
   "metadata": {},
   "outputs": [],
   "source": [
    "def compose_transforms():\n",
    "    return torchvision.transforms.Compose([\n",
    "    ###\n",
    "])\n"
   ]
  },
  {
   "cell_type": "code",
   "execution_count": null,
   "metadata": {},
   "outputs": [],
   "source": [
    "'''Test'''\n",
    "Testbench(compose_transforms)"
   ]
  },
  {
   "cell_type": "markdown",
   "metadata": {},
   "source": [
    "Даље, учитавамо сет података."
   ]
  },
  {
   "cell_type": "code",
   "execution_count": 2,
   "metadata": {},
   "outputs": [
    {
     "ename": "NameError",
     "evalue": "name 'torchvision' is not defined",
     "output_type": "error",
     "traceback": [
      "\u001b[1;31m---------------------------------------------------------------------------\u001b[0m",
      "\u001b[1;31mNameError\u001b[0m                                 Traceback (most recent call last)",
      "\u001b[1;32m~\\AppData\\Local\\Temp/ipykernel_8368/2037397944.py\u001b[0m in \u001b[0;36m<module>\u001b[1;34m\u001b[0m\n\u001b[0;32m      1\u001b[0m \u001b[0mdataset_path\u001b[0m \u001b[1;33m=\u001b[0m \u001b[1;34m'datasets/2750'\u001b[0m\u001b[1;33m\u001b[0m\u001b[1;33m\u001b[0m\u001b[0m\n\u001b[1;32m----> 2\u001b[1;33m \u001b[0mdataset\u001b[0m \u001b[1;33m=\u001b[0m \u001b[0mtorchvision\u001b[0m\u001b[1;33m.\u001b[0m\u001b[0mdatasets\u001b[0m\u001b[1;33m.\u001b[0m\u001b[0mDatasetFolder\u001b[0m\u001b[1;33m(\u001b[0m\u001b[0mroot\u001b[0m\u001b[1;33m=\u001b[0m\u001b[0mdataset_path\u001b[0m\u001b[1;33m,\u001b[0m \u001b[0mloader\u001b[0m\u001b[1;33m=\u001b[0m\u001b[0mimage_loader\u001b[0m\u001b[1;33m,\u001b[0m \u001b[0mtransform\u001b[0m\u001b[1;33m=\u001b[0m\u001b[0mcompose_transforms\u001b[0m\u001b[1;33m(\u001b[0m\u001b[1;33m)\u001b[0m\u001b[1;33m,\u001b[0m \u001b[0mextensions\u001b[0m\u001b[1;33m=\u001b[0m\u001b[1;34m\"jpg\"\u001b[0m\u001b[1;33m)\u001b[0m\u001b[1;33m\u001b[0m\u001b[1;33m\u001b[0m\u001b[0m\n\u001b[0m",
      "\u001b[1;31mNameError\u001b[0m: name 'torchvision' is not defined"
     ]
    }
   ],
   "source": [
    "dataset_path = 'datasets/2750'\n",
    "dataset = torchvision.datasets.DatasetFolder(root=dataset_path, loader=image_loader, transform=compose_transforms(), extensions=\"jpg\")"
   ]
  },
  {
   "cell_type": "markdown",
   "metadata": {},
   "source": [
    " Напиши функцију **split_data** која као аргументе прима листу са односом броја података за тренинг, тестирање и евалуацију, и укупан број података, а враћа број података за тренинг, тестирање и евалуацију."
   ]
  },
  {
   "cell_type": "code",
   "execution_count": null,
   "metadata": {},
   "outputs": [],
   "source": [
    "def split_data(ratios : list, dataset: torch.utils.data.DataLoader) -> list:\n",
    "    DATASET_SEED = 12345\n",
    "    torch_generator = torch.Generator().manual_seed(DATASET_SEED)\n",
    "    dataset_size = len(dataset)\n",
    "    sizes = [int(ratio * dataset_size) for ratio in ratios]\n",
    "    return torch.utils.data.random_split(\n",
    "        dataset, \n",
    "        sizes, \n",
    "        generator=torch.Generator().manual_seed(DATASET_SEED))"
   ]
  },
  {
   "cell_type": "code",
   "execution_count": null,
   "metadata": {},
   "outputs": [],
   "source": [
    "'''Test'''\n",
    "Testbench(split_data)"
   ]
  },
  {
   "cell_type": "code",
   "execution_count": null,
   "metadata": {},
   "outputs": [],
   "source": [
    "train_dataset, val_dataset, test_dataset = split_data([0.7, 0.15, 0.15], dataset)"
   ]
  },
  {
   "cell_type": "markdown",
   "metadata": {},
   "source": [
    "Написати функцију **getDataLoader** која прима **dataset** и **batch_size** као аргументе и ствара класу **torch.utils.data.DataLoader** са активираним следећим опцијама **shuffle**=True, **num_workers**=0, **drop_last**=True, **pin_memory**=True"
   ]
  },
  {
   "cell_type": "code",
   "execution_count": null,
   "metadata": {},
   "outputs": [],
   "source": [
    "ddef getDataLoader(dataset : torch.utils.data.Dataset , batch_size : int) -> torch.utils.data.DataLoader:\n",
    "    return torch.utils.data.DataLoader(\n",
    "        dataset, \n",
    "        batch_size=batch_size, \n",
    "        shuffle=True, \n",
    "        num_workers=0, \n",
    "        drop_last=True, \n",
    "        pin_memory=True)"
   ]
  },
  {
   "cell_type": "code",
   "execution_count": null,
   "metadata": {},
   "outputs": [],
   "source": [
    "'''Test'''\n",
    "Testbench(getDataLoader)"
   ]
  },
  {
   "cell_type": "markdown",
   "metadata": {},
   "source": [
    "Допунити следећу ћелију!"
   ]
  },
  {
   "cell_type": "code",
   "execution_count": null,
   "metadata": {},
   "outputs": [],
   "source": [
    "BATCH_SIZE = 32\n",
    "\n",
    "train_loader = getDataLoader(train_dataset, BATCH_SIZE)\n",
    "val_loader = getDataLoader(val_dataset, BATCH_SIZE)"
   ]
  },
  {
   "cell_type": "markdown",
   "metadata": {},
   "source": [
    "Допунити функцију **get_transfer_learning_model** тако да она враћа већ истренирани модел **resnet50**. Последњи слој мреже треба бити модификован тако да се излаз поклапа са излазом мреже у другој вежби"
   ]
  },
  {
   "cell_type": "code",
   "execution_count": null,
   "metadata": {},
   "outputs": [],
   "source": [
    "from torch import nn\n",
    "\n",
    "def get_transfer_learning_model():\n",
    "    model = torchvision.models.resnet50(pretrained=True)\n",
    "    num_features = model.fc.in_features\n",
    "    model.fc = nn.Linear(num_features, ###)\n",
    "    return model"
   ]
  },
  {
   "cell_type": "code",
   "execution_count": null,
   "metadata": {},
   "outputs": [],
   "source": [
    "'''Test'''\n",
    "Testbench(get_transfer_learning_model)"
   ]
  },
  {
   "cell_type": "markdown",
   "metadata": {},
   "source": [
    "Даље, пребацујемо мрежу на Графичку картицу због бржег тренирања."
   ]
  },
  {
   "cell_type": "code",
   "execution_count": null,
   "metadata": {},
   "outputs": [],
   "source": [
    "device = torch.device(\"cuda:0\" if torch.cuda.is_available() else \"cpu\")\n",
    "net = get_transfer_learning_model()\n",
    "net.to(device)"
   ]
  },
  {
   "cell_type": "markdown",
   "metadata": {},
   "source": [
    "Допунити код испод тако да критеријум буде **Cross Entropy Loss**, а да оптимизатор буде **Stohastic Gradient Descent** са **learning rate = 0.001**, a **momentum = 0.9**"
   ]
  },
  {
   "cell_type": "code",
   "execution_count": null,
   "metadata": {},
   "outputs": [],
   "source": [
    "criterion = nn.CrossEntropyLoss()\n",
    "optimizer = torch.optim.SGD(net.parameters(), lr=0.001, momentum=0.9)"
   ]
  },
  {
   "cell_type": "markdown",
   "metadata": {},
   "source": [
    "Допунити функцију **measure_qulity** koja prima модел, сет података, уређај и број BATCH-ева као опциони аргумент. Функција враћа тачност мреже на датом сету података."
   ]
  },
  {
   "cell_type": "code",
   "execution_count": null,
   "metadata": {},
   "outputs": [],
   "source": [
    "from sklearn.metrics import accuracy_score\n",
    "\n",
    "def measure_quality(model : nn.Sequential, loader : torch.utils.data.DataLoader, device : any, max_batches: int=None) -> float:\n",
    "    model.eval()\n",
    "    iteration_cnt = 0\n",
    "\n",
    "    all_preds = list()\n",
    "    all_labels = list()\n",
    "\n",
    "    with torch.no_grad():\n",
    "        for i, data in enumerate(loader):\n",
    "            if max_batches is not None and iteration_cnt == max_batches:\n",
    "                break\n",
    "\n",
    "            inputs, labels = data[0].to(device), data[1].to(device)\n",
    "\n",
    "            outputs = model(inputs)\n",
    "            _, pred = torch.max(outputs, 1)\n",
    "\n",
    "            all_preds += list(pred.data.cpu().numpy())\n",
    "            all_labels += list(labels.data.cpu().numpy())\n",
    "\n",
    "            iteration_cnt += 1\n",
    "\n",
    "    model.train()\n",
    "\n",
    "    return accuracy_score(all_labels, all_preds)"
   ]
  },
  {
   "cell_type": "markdown",
   "metadata": {},
   "source": [
    "Допунити код којом се тренира модел. Тачност треба да се оцењује на подацима за евалуацију."
   ]
  },
  {
   "cell_type": "code",
   "execution_count": null,
   "metadata": {},
   "outputs": [],
   "source": [
    "for epoch in range(5):  # loop over the dataset multiple times\n",
    "\n",
    "    running_loss = 0.0\n",
    "    for i, data in enumerate(train_loader):\n",
    "        # get the inputs; data is a list of [inputs, labels]\n",
    "        inputs, labels = data[0].to(device), data[1].to(device)\n",
    "\n",
    "        # zero the parameter gradients\n",
    "        optimizer.zero_grad()\n",
    "\n",
    "        # forward + backward + optimize\n",
    "        outputs = net(inputs)\n",
    "        loss = criterion(outputs, labels)\n",
    "        loss.backward()\n",
    "        optimizer.step()\n",
    "\n",
    "        # print statistics\n",
    "        running_loss += loss.item()\n",
    "        if i % 100 == 99:    # print every 100 mini-batches\n",
    "            val_accuracy = measure_quality(net, val_loader)\n",
    "            print(f\"epoch {epoch + 1} iter {i + 1} loss: {running_loss / 100} val accuracy: {val_accuracy}\")\n",
    "            running_loss = 0.0\n",
    "\n",
    "print('Finished Training')"
   ]
  }
 ],
 "metadata": {
  "interpreter": {
   "hash": "2be40f01bef35c32ba7ed15dbe4dbfedb1adaa6300f561f1d7b2ba04ed3392b7"
  },
  "kernelspec": {
   "display_name": "Python 3.9.7 64-bit ('ML_pfe': conda)",
   "name": "python3"
  },
  "language_info": {
   "codemirror_mode": {
    "name": "ipython",
    "version": 3
   },
   "file_extension": ".py",
   "mimetype": "text/x-python",
   "name": "python",
   "nbconvert_exporter": "python",
   "pygments_lexer": "ipython3",
   "version": "3.9.7"
  }
 },
 "nbformat": 4,
 "nbformat_minor": 2
}
