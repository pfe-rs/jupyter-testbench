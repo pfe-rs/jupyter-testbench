{
 "cells": [
  {
   "cell_type": "markdown",
   "metadata": {},
   "source": [
    "# Увод и опис проблема\n",
    "\n",
    "У овој вежби ћемо научити како се већ истрениран модел на неком сету података може адаптирати на други сет података."
   ]
  },
  {
   "cell_type": "markdown",
   "metadata": {},
   "source": [
    "**У задацима попунити само део кода означен са 3 тарабе (###).**"
   ]
  },
  {
   "cell_type": "markdown",
   "metadata": {},
   "source": [
    "Имплементирти функцију **image_loader** која учитава слику са задате локације **path**, трансформише копију слике из BGR (0-255) формата који користи OpenCV у RGB (0.0 - 1.0),а затим враћа **Tensor** слике."
   ]
  },
  {
   "cell_type": "code",
   "execution_count": null,
   "metadata": {},
   "outputs": [],
   "source": [
    "import torch\n",
    "import cv2\n",
    "import typing\n",
    "from testbench import Testbench"
   ]
  },
  {
   "cell_type": "code",
   "execution_count": null,
   "metadata": {
    "scrolled": true
   },
   "outputs": [],
   "source": [
    "#Funkcija\n",
    "def image_loader(path : str) -> torch.Tensor:\n",
    "    ###"
   ]
  },
  {
   "cell_type": "code",
   "execution_count": null,
   "metadata": {},
   "outputs": [],
   "source": [
    "'''Test'''\n",
    "Testbench(image_loader)"
   ]
  },
  {
   "cell_type": "markdown",
   "metadata": {},
   "source": [
    "Имплементирати callable класе **RandomGamma** и **ClipImage**.\n",
    "<ul>\n",
    "    <li>RandomGamma - Ствара се са аргументом <em>random_gamma_delta</em>. Када се позове примењује гама филтер са вредношћу која има униформну расподелу у интервалу [1 - <em>random_gamma_delta</em> , 1 + <em>random_gamma_delta</em> ]</li>\n",
    "    <li>ClipImage - Ствара се без аргумената. Када се позове клипује све вредности у интервал [0, 1]</li>\n",
    "</ul>"
   ]
  },
  {
   "cell_type": "markdown",
   "metadata": {},
   "source": [
    "Имплементирати функцију **composed_transforms** која враћа композицију следећих трансформација и филтера:\n",
    "\n",
    "<ul>\n",
    "    <li>RandomGamma филтер са <em>random_gamma_delta</em> = 0.3,</li>\n",
    "    <li>ClipImage, </li>\n",
    "    <li>Трансформација у PLI слику, </li>\n",
    "    <li>Промена величине слике tako da W=H=224, </li>\n",
    "    <li>Произвољни оризонтални флип, </li>\n",
    "    <li>Произвољни вертикални флип, </li>\n",
    "    <li>Трансфформација натраг у тенсор и </li>\n",
    "    <li>Нормализацију сваког канала: R(mean=0.485, std=0.229), G(mean=0.456, std=0.224), B(mean=0.406, std=0.225) </li>\n",
    "</ul>"
   ]
  },
  {
   "cell_type": "code",
   "execution_count": null,
   "metadata": {},
   "outputs": [],
   "source": [
    "import torchvision"
   ]
  },
  {
   "cell_type": "code",
   "execution_count": null,
   "metadata": {},
   "outputs": [],
   "source": [
    "def compose_transforms():\n",
    "    return torchvision.transforms.Compose([\n",
    "    ###\n",
    "])\n"
   ]
  },
  {
   "cell_type": "code",
   "execution_count": null,
   "metadata": {},
   "outputs": [],
   "source": [
    "'''Test'''\n",
    "Testbench(compose_transforms)"
   ]
  },
  {
   "cell_type": "markdown",
   "metadata": {},
   "source": [
    "Даље, учитавамо сет података."
   ]
  },
  {
   "cell_type": "code",
   "execution_count": null,
   "metadata": {},
   "outputs": [],
   "source": [
    "dataset_path = \"Dodaj kasnije\"\n",
    "dataset = torchvision.datasets.DatasetFolder(root=dataset_path, loader=image_loader, transform=compose_transforms(), extensions=\"jpg\")"
   ]
  },
  {
   "cell_type": "markdown",
   "metadata": {},
   "source": [
    " Напиши функцију **split_data** која као аргументе прима листу са односом броја података за тренинг, тестирање и евалуацију, и укупан број података, а враћа број података за тренинг, тестирање и евалуацију."
   ]
  },
  {
   "cell_type": "code",
   "execution_count": null,
   "metadata": {},
   "outputs": [],
   "source": [
    "def split_data(ratios, dataset):\n",
    "    DATASET_SEED = 12345\n",
    "    torch_generator = torch.Generator().manual_seed(DATASET_SEED)\n",
    "    ###"
   ]
  },
  {
   "cell_type": "code",
   "execution_count": null,
   "metadata": {},
   "outputs": [],
   "source": [
    "'''Test'''\n",
    "Testbench(split_data)"
   ]
  },
  {
   "cell_type": "code",
   "execution_count": null,
   "metadata": {},
   "outputs": [],
   "source": [
    "train_dataset, val_dataset, test_dataset = split_data([0.7, 0.15, 0.15], dataset)"
   ]
  },
  {
   "cell_type": "markdown",
   "metadata": {},
   "source": [
    "Написати функцију **getDataLoader** која прима **dataset** и **batch_size** као аргументе и ствара класу **torch.utils.data.DataLoader** са активираним следећим опцијама **shuffle**=True, **num_workers**=0, **drop_last**=True, **pin_memory**=True"
   ]
  },
  {
   "cell_type": "code",
   "execution_count": null,
   "metadata": {},
   "outputs": [],
   "source": [
    "def getDataLoader(dataset, batch_size):\n",
    "    ###"
   ]
  },
  {
   "cell_type": "code",
   "execution_count": null,
   "metadata": {},
   "outputs": [],
   "source": [
    "'''Test'''\n",
    "Testbench(getDataLoader)"
   ]
  },
  {
   "cell_type": "markdown",
   "metadata": {},
   "source": [
    "Допунити следећу ћелију!"
   ]
  },
  {
   "cell_type": "code",
   "execution_count": null,
   "metadata": {},
   "outputs": [],
   "source": [
    "BATCH_SIZE = 32\n",
    "\n",
    "train_loader = getDataLoader(train_dataset, BATCH_SIZE)\n",
    "val_loader = getDataLoader(val_dataset, BATCH_SIZE)"
   ]
  },
  {
   "cell_type": "markdown",
   "metadata": {},
   "source": [
    "Допунити функцију **get_transfer_learning_model** тако да она враћа већ истренирани модел **resnet50**. Последњи слој мреже треба бити модификован тако да се излаз поклапа са излазом мреже у другој вежби"
   ]
  },
  {
   "cell_type": "code",
   "execution_count": null,
   "metadata": {},
   "outputs": [],
   "source": [
    "from torch import nn\n",
    "\n",
    "def get_transfer_learning_model():\n",
    "    model = torchvision.models.resnet50(pretrained=True)\n",
    "    num_features = model.fc.in_features\n",
    "    model.fc = nn.Linear(num_features, 10)\n",
    "    return model"
   ]
  },
  {
   "cell_type": "code",
   "execution_count": null,
   "metadata": {},
   "outputs": [],
   "source": [
    "'''Test'''\n",
    "Testbench(get_transfer_learning_model)"
   ]
  },
  {
   "cell_type": "markdown",
   "metadata": {},
   "source": [
    "Даље, пребацујемо мрежу на Графичку картицу због бржег тренирања."
   ]
  },
  {
   "cell_type": "code",
   "execution_count": null,
   "metadata": {},
   "outputs": [],
   "source": [
    "device = torch.device(\"cuda:0\" if torch.cuda.is_available() else \"cpu\")\n",
    "net.to(device)"
   ]
  },
  {
   "cell_type": "markdown",
   "metadata": {},
   "source": [
    "Допунити код испод тако да критеријум буде **Cross Entropy Loss**, а да оптимизатор буде **Stohastic Gradient Descent** са **learning rate = 0.001**, a **momentum = 0.9**"
   ]
  },
  {
   "cell_type": "code",
   "execution_count": null,
   "metadata": {},
   "outputs": [],
   "source": [
    "criterion = ###\n",
    "optimizer = ###"
   ]
  },
  {
   "cell_type": "markdown",
   "metadata": {},
   "source": [
    "Допунити функцију **measure_qulity** koja prima модел, сет података, уређај и број BATCH-ева као опциони аргумент. Функција враћа тачност мреже на датом сету података."
   ]
  },
  {
   "cell_type": "code",
   "execution_count": null,
   "metadata": {},
   "outputs": [],
   "source": [
    "from sklearn.metrics import accuracy_score\n",
    "\n",
    "def measure_quality(model, loader, max_batches=None):\n",
    "    model.###\n",
    "    iteration_cnt = 0\n",
    "\n",
    "    all_preds = list()\n",
    "    all_labels = list()\n",
    "\n",
    "    with torch.no_grad():\n",
    "        for i, data in enumerate(loader):\n",
    "            if max_batches is not None and iteration_cnt == max_batches:\n",
    "                break\n",
    "\n",
    "            ###\n",
    "\n",
    "    model.###\n",
    "\n",
    "    return accuracy_score(all_labels, all_preds)"
   ]
  },
  {
   "cell_type": "markdown",
   "metadata": {},
   "source": [
    "Допунити код којом се тренира модел. Тачност треба да се оцењује на подацима за евалуацију."
   ]
  },
  {
   "cell_type": "code",
   "execution_count": null,
   "metadata": {},
   "outputs": [],
   "source": [
    "for epoch in range(5):\n",
    "    running_loss = 0.0\n",
    "    for i, data in enumerate(###):\n",
    " \n",
    "        inputs, labels = data[0].to(device), data[1].to(device)\n",
    "\n",
    "        optimizer.###\n",
    "\n",
    "        outputs = ###\n",
    "        loss = ###\n",
    "        loss.###\n",
    "        optimizer.###\n",
    "\n",
    "        running_loss += loss.item()\n",
    "        if i % 100 == 99:\n",
    "            val_accuracy = ###\n",
    "            print(f\"epoch {epoch + 1} iter {i + 1} loss: {running_loss / 100} val accuracy: {val_accuracy}\")"
   ]
  }
 ],
 "metadata": {
  "interpreter": {
   "hash": "2be40f01bef35c32ba7ed15dbe4dbfedb1adaa6300f561f1d7b2ba04ed3392b7"
  },
  "kernelspec": {
   "display_name": "Python 3",
   "language": "python",
   "name": "python3"
  },
  "language_info": {
   "codemirror_mode": {
    "name": "ipython",
    "version": 3
   },
   "file_extension": ".py",
   "mimetype": "text/x-python",
   "name": "python",
   "nbconvert_exporter": "python",
   "pygments_lexer": "ipython3",
   "version": "3.6.0"
  }
 },
 "nbformat": 4,
 "nbformat_minor": 2
}
