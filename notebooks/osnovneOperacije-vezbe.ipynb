{
 "cells": [
  {
   "cell_type": "code",
   "execution_count": null,
   "metadata": {},
   "outputs": [],
   "source": [
    "import numpy as np\n",
    "import scipy\n",
    "from scipy.fft import fft\n",
    "from scipy.io.wavfile import read\n",
    "import matplotlib as mpl\n",
    "import matplotlib.pyplot as plt\n",
    "from scipy import signal\n",
    "import IPython\n",
    "from IPython.display import Markdown\n",
    "import ipywidgets as widgets\n",
    "from testbench import Testbench"
   ]
  },
  {
   "cell_type": "markdown",
   "metadata": {},
   "source": [
    "## Vežbe za samostalan rad"
   ]
  },
  {
   "cell_type": "markdown",
   "metadata": {},
   "source": [
    "### Prvi zadatak"
   ]
  },
  {
   "cell_type": "markdown",
   "metadata": {},
   "source": [
    "#### 1. Napraviti funkciju koja generiše tri sinusoide zadatih frekvencija $f_1$, $f_2$ i $f_3$ i amplituda $A_1$, $A_2$ i $A_3$\n",
    "#### Duzina signala treba da bude 3 sekunde, a frekvencija odabiranja ($f_s$) je 10000"
   ]
  },
  {
   "cell_type": "code",
   "execution_count": null,
   "metadata": {},
   "outputs": [],
   "source": [
    "def signalFormation(f1: float, f2: float, f3: float, A1: float, A2: float, A3: float) -> np.array:\n",
    "    # Implementirati ovaj deo\n",
    "    return None\n",
    "\n",
    "Testbench(signalFormation)"
   ]
  },
  {
   "cell_type": "code",
   "execution_count": null,
   "metadata": {},
   "outputs": [],
   "source": [
    "\n",
    "# Primer ulaznih podataka\n",
    "\n",
    "sec = 3\n",
    "fs = 10000\n",
    "\n",
    "f1 = 3\n",
    "f2 = 5\n",
    "f3 = 7\n",
    "\n",
    "A1 = 3\n",
    "A2 = 4\n",
    "A3 = 0.5\n",
    "\n",
    "t = np.linspace(0, sec, sec * fs)\n",
    "x = signalFormation(f1, f2, f3, A1, A2, A3)\n",
    "\n",
    "mpl.rc('font', family = 'serif', size = 18)\n",
    "\n",
    "fig, ax = plt.subplots(figsize = (10,8))\n",
    "ax.set_xlabel(\"t\")\n",
    "ax.set_ylabel(\"x(t)\")\n",
    "plt.plot(t, x)"
   ]
  },
  {
   "cell_type": "markdown",
   "metadata": {},
   "source": [
    "\n",
    "#### 2. Napraviti funkciju koja formira signal sa kašnjenjem K i odseca prvih S odbiraka signala"
   ]
  },
  {
   "cell_type": "code",
   "execution_count": null,
   "metadata": {},
   "outputs": [],
   "source": [
    "def shiftSignal(x, K):\n",
    "    N = len(x)\n",
    "    y = np.zeros(N)\n",
    "    if K < 0:\n",
    "        y[:N + K] = x[-K:N]\n",
    "    else:\n",
    "        y[K:N] = x[:N-K]\n",
    "    return y\n",
    "\n",
    "def cutShiftSignal(x: np.array, K: float, S: float) -> np.array:\n",
    "    # Implementirati ovaj deo\n",
    "   \n",
    "     return None\n",
    "\n",
    "Testbench(cutShiftSignal)"
   ]
  },
  {
   "cell_type": "code",
   "execution_count": null,
   "metadata": {},
   "outputs": [],
   "source": [
    "\n",
    "# Primer ulaznih podataka\n",
    "\n",
    "fs, x = read('datasets/guitar_sound/skala.wav')\n",
    "\n",
    "K = - len(x) // 10\n",
    "S = len(x) // 10\n",
    "\n",
    "t = np.linspace(0, len(x) / fs, len(x))\n",
    "y = cutShiftSignal(x, K, S)\n",
    "f = 1000\n",
    "\n",
    "fig, (ax1,ax2) = plt.subplots(2,1, figsize = (10,10)) # formiranje subplota\n",
    "ax1.set_xlabel(\"t\")         # označavanje osa\n",
    "ax1.set_ylabel(\"x(t)\")      \n",
    "ax2.set_xlabel(\"t\")         \n",
    "ax2.set_ylabel(\"y(t)\")      \n",
    "ax1.plot(t,x)               # plotovanje prvobitnog signala\n",
    "ax2.plot(t[:-S],y)          # plotovanje novog signala\n",
    "plt.show()      \n",
    "\n",
    "display(Markdown(f\"Sinusoida na {f} Hz\"))\n",
    "IPython.display.display(IPython.display.Audio(x, rate = fs))\n",
    "IPython.display.display(IPython.display.Audio(y, rate = fs))"
   ]
  },
  {
   "cell_type": "markdown",
   "metadata": {},
   "source": [
    "#### 3. Napraviti funkciju koja vraća kadratnu snagu signala $(x^2)$"
   ]
  },
  {
   "cell_type": "code",
   "execution_count": null,
   "metadata": {},
   "outputs": [],
   "source": [
    "def squarePower(x: np.array) -> np.array:\n",
    "    # Implementirati ovaj deo\n",
    "    return None\n",
    "\n",
    "Testbench(squarePower)"
   ]
  },
  {
   "cell_type": "code",
   "execution_count": null,
   "metadata": {},
   "outputs": [],
   "source": [
    "\n",
    "y = squarePower(x)\n",
    "\n",
    "mpl.rc('font', family = 'serif', size = 18)\n",
    "\n",
    "fig2, ax = plt.subplots(figsize = (12,6))\n",
    "ax.set_title(\"Početni signal i njegova snaga u vremenu\")\n",
    "ax.set_xlabel(\"t\")\n",
    "ax.plot(t, x, label='x(t)')\n",
    "ax.plot(t, y, label='x^2(t)')\n",
    "box = ax.get_position()\n",
    "ax.set_position([box.x0, box.y0, box.width * 0.8, box.height])\n",
    "ax.legend(loc='center left', bbox_to_anchor=(1, 0.5))\n",
    "\n",
    "plt.show()"
   ]
  },
  {
   "cell_type": "markdown",
   "metadata": {},
   "source": [
    "#### 4. Odrediti srednju vrednost snage signala"
   ]
  },
  {
   "cell_type": "code",
   "execution_count": null,
   "metadata": {},
   "outputs": [],
   "source": [
    "def meanPower(x: np.array) -> float:\n",
    "    # Implementirati ovaj deo\n",
    "    return None\n",
    "\n",
    "Testbench(meanPower)\n",
    "\n",
    "mean_p = meanPower(y)\n",
    "print(mean_p)"
   ]
  }
 ],
 "metadata": {
  "interpreter": {
   "hash": "27408ad9a6cf84cef8968aa02d180be2ec57e013a23525a6b3944a973001aba3"
  },
  "kernelspec": {
   "display_name": "Python 3",
   "language": "python",
   "name": "python3"
  },
  "language_info": {
   "codemirror_mode": {
    "name": "ipython",
    "version": 3
   },
   "file_extension": ".py",
   "mimetype": "text/x-python",
   "name": "python",
   "nbconvert_exporter": "python",
   "pygments_lexer": "ipython3",
   "version": "3.8.8"
  }
 },
 "nbformat": 4,
 "nbformat_minor": 2
}
