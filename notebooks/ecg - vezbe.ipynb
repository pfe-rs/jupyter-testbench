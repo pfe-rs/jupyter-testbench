{
 "cells": [
  {
   "cell_type": "markdown",
   "metadata": {},
   "source": [
    "## Obrada ECG signala"
   ]
  },
  {
   "cell_type": "code",
   "execution_count": null,
   "metadata": {},
   "outputs": [],
   "source": [
    "# potrebne biblioteke i funkcija za plotovanje\n",
    "\n",
    "import numpy as np\n",
    "%matplotlib inline\n",
    "\n",
    "import matplotlib as mpl\n",
    "mpl.rc('text', usetex = False)\n",
    "mpl.rc('font', family = 'serif', size = 18)\n",
    "import matplotlib.pyplot as plt\n",
    "\n",
    "import scipy.signal as signal\n",
    "from scipy.fft import fft\n",
    "import scipy.io as sio\n",
    "\n",
    "\n",
    "import IPython\n",
    "from IPython.display import Markdown, Image\n",
    "\n",
    "def stemSequence(x, y, plotName = 'MyPlot', stemColor = 'tab:blue', xlims = [], ylims = [], xlabel = '', ylabel = '', showLegend = True):\n",
    "    markerline, stemlines, baseline = plt.stem(x, y, stemColor, label = plotName)\n",
    "    plt.setp(markerline, 'markerfacecolor', stemColor, 'markeredgecolor', stemColor)\n",
    "    if xlabel != '':\n",
    "        plt.xlabel(xlabel)\n",
    "    if ylabel != '':\n",
    "        plt.ylabel(ylabel)\n",
    "    if xlims != []:\n",
    "        plt.xlim(xlims)\n",
    "    if ylims != []:\n",
    "        plt.ylim(ylims)\n",
    "    if showLegend:\n",
    "        plt.legend(loc = 'upper right')"
   ]
  },
  {
   "cell_type": "markdown",
   "metadata": {},
   "source": [
    "### Prikaz originalnog signala"
   ]
  },
  {
   "cell_type": "code",
   "execution_count": null,
   "metadata": {},
   "outputs": [],
   "source": [
    "# ucitavanje\n",
    "fs = 360\n",
    "matContent = sio.loadmat('datasets/ECG/ecg_corrupted.mat')\n",
    "x = matContent['ecg_corrupted'].squeeze()\n",
    "t = np.linspace(0, len(x) / fs, len(x))\n",
    "\n",
    "# iscrtavanje signala\n",
    "fig, ax = plt.subplots(figsize = (9, 6))\n",
    "plt.plot(t, x)\n",
    "plt.xlabel(\"t\")\n",
    "plt.ylabel(\"x(t)\")\n",
    "plt.title(\"Prikaz signala x(t)\")"
   ]
  },
  {
   "cell_type": "markdown",
   "metadata": {},
   "source": [
    "#### Zapažanja\n",
    "Ono što se može primetiti sa grafika signala je da ima određenu sporopromenljivu komponentu (zbog koje polako ide gore-dole), a prisutne su i komponente veće frekvencije (učestale recke duž celog signala)\n",
    "<br><br>\n",
    "Hajde da vidimo spektar tih frekvencija\n"
   ]
  },
  {
   "cell_type": "code",
   "execution_count": null,
   "metadata": {},
   "outputs": [],
   "source": [
    "# amplitudska karakteristika signala\n",
    "\n",
    "fig, ax = plt.subplots(figsize = (10,6))\n",
    "# zelimo samo jednu polovinu spektra, jer je simetričan\n",
    "X = np.abs(fft(x))[:len(x)//2]\n",
    "N = len(X)\n",
    "# iscrtavanje spektra\n",
    "n = np.arange(N) * fs / N // 2\n",
    "stemSequence(n, X,  plotName = 'Spektar', xlabel = r'$f[Hz]$', ylabel = r'Amplituda')"
   ]
  },
  {
   "cell_type": "markdown",
   "metadata": {},
   "source": [
    "### Uvod u problem\n",
    "Sa ovog grafika vidimo jednu frekvenciju prisutnu oko $60 Hz$, koja je u praksi šum koji je uzrokovan nesavršenošću instrumenata. Takođe, sporo promenljiva komponenta koju smo videli u vremenskom domenu je nesavršenost koja nastaje zbog disanja pacijenata.\n",
    "\n",
    "### Zadatak \n",
    "Potrebno je filtrirati signal tako da se prvo ukloni sporopromenljiva komponenta signala (vrednosti frekvencija do nekoliko $Hz$), a potom je potrebno ukloniti brzopromenljivu komponentu komponentu koja predstavlja šum (oko $60 Hz$)\n",
    "<br>\n",
    "Stručni naziv za sporopromenljivi šum je **baseline drift**, dok se brzopromenljivi šum zove **power line noise**\n",
    "\n",
    "#### Ne postoji potpuno tačan način da se uradi zadatak, potrebno je primeniti filtere prema zapažanjima"
   ]
  },
  {
   "cell_type": "code",
   "execution_count": null,
   "metadata": {},
   "outputs": [],
   "source": [
    "# parametri filtara\n",
    "transitionBandwidth = 10\n",
    "ripple = 0.05\n",
    "\n",
    "# primena filtra za uklanjanje baseline drift-a\n",
    "\n",
    "h = None\n",
    "\n",
    "y = np.convolve(x, h)\n",
    "\n",
    "fig, ax = plt.subplots(figsize = (9, 6))\n",
    "t = np.linspace(0, len(y) / fs, len(y))\n",
    "plt.plot(t, y)\n",
    "plt.xlabel(\"t\")\n",
    "plt.ylabel(\"y(t)\")\n",
    "plt.title(\"Prikaz signala x(t) bez sporopromenljive komponente\")"
   ]
  },
  {
   "cell_type": "code",
   "execution_count": null,
   "metadata": {},
   "outputs": [],
   "source": [
    "# parametri filtra\n",
    "transitionBandwidth = 10\n",
    "ripple = 0.05\n",
    "\n",
    "# primena filtra za uklanjanje power line noise-a\n",
    "\n",
    "h = None\n",
    "\n",
    "y1 = np.convolve(y, h)\n",
    "\n",
    "fig, ax = plt.subplots(figsize = (9, 6))\n",
    "t = np.linspace(0, len(y1) / fs, len(y1))\n",
    "plt.plot(t, y1)\n",
    "plt.xlabel(\"t\")\n",
    "plt.ylabel(\"y1(t)\")\n",
    "plt.title(\"Prikaz signala x(t) bez sporopromenljive i brzopromenljive komponente\")"
   ]
  }
 ],
 "metadata": {
  "interpreter": {
   "hash": "27408ad9a6cf84cef8968aa02d180be2ec57e013a23525a6b3944a973001aba3"
  },
  "kernelspec": {
   "display_name": "Python 3.9.5 64-bit ('myenv': conda)",
   "name": "python3"
  },
  "language_info": {
   "codemirror_mode": {
    "name": "ipython",
    "version": 3
   },
   "file_extension": ".py",
   "mimetype": "text/x-python",
   "name": "python",
   "nbconvert_exporter": "python",
   "pygments_lexer": "ipython3",
   "version": "3.9.5"
  },
  "orig_nbformat": 4
 },
 "nbformat": 4,
 "nbformat_minor": 2
}
