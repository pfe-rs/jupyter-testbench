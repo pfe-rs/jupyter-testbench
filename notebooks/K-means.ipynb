{
 "cells": [
  {
   "cell_type": "markdown",
   "id": "8392d79f",
   "metadata": {},
   "source": [
    "# Klasterizacija metodom K-srednjih vrednosti"
   ]
  },
  {
   "cell_type": "code",
   "execution_count": null,
   "id": "e10c7920",
   "metadata": {},
   "outputs": [],
   "source": [
    "from sklearn.metrics import adjusted_rand_score\n",
    "from testbench import Testbench\n",
    "import random\n",
    "\n",
    "import numpy as np\n",
    "import matplotlib.pyplot as plt\n",
    "import pandas as pd\n",
    "import seaborn as sns"
   ]
  },
  {
   "cell_type": "markdown",
   "id": "43e0ddd0",
   "metadata": {},
   "source": [
    "Naredna ćelija predstavlja mesto implementacije funkcije predviđanja klastera zadatih podataka. Kao parametar se funkciji prosleđuju podaci u formatu np.ndarray koji je dvodimenzionalan tako da se u redovima nalaze različite instance a u kolonama su date karakteristike pojedinačnih instanci u obliku brojeva. Neophodno je izvršiti podelu na četiri grupacije tako da je povratna vrednost funkcije u formatu np.ndarray i predstavlja numeričku vrednost koja opisuje kom klasteru zadata instanca odgovara. Ukupan broj redova u nizu je 400.\n",
    "\n",
    "Bitno je da klasteri budu opisani brojevima od 0 do 3 i da je redosled predviđenih klastera za zadate podatke dat u istom redosledu u kom su dati podaci na ulazu. Korišćenje pomoćnih funkcija je dozvoljeno."
   ]
  },
  {
   "cell_type": "code",
   "execution_count": null,
   "id": "97e7dc78",
   "metadata": {},
   "outputs": [],
   "source": [
    "def k_means(data: np.ndarray) -> np.ndarray:\n",
    "    \n",
    "    return None"
   ]
  },
  {
   "cell_type": "code",
   "execution_count": null,
   "id": "d40d0bb8",
   "metadata": {},
   "outputs": [],
   "source": [
    "Testbench(k_means)"
   ]
  },
  {
   "cell_type": "markdown",
   "id": "c6ef7d63",
   "metadata": {},
   "source": [
    "Date ćelije služe za pozivanje funkcije k_means nad prethodno učitanim podacima kao i za izračunavanje tačnosti same predikcije korišćenjem funkcije adjusted_rand_score nad promenljivama true_labels i predicted_cluster. Učitani podaci su dostupni radi eventualnog testiranja funkcije k_means i modifikacije istog pre pozivanja funkcije Testbench(k_means)."
   ]
  },
  {
   "cell_type": "code",
   "execution_count": null,
   "id": "f00ca246",
   "metadata": {},
   "outputs": [],
   "source": [
    "data = np.load(\"datasets/k means/data.npy\")\n",
    "true_labels = np.load(\"datasets/k means/labels.npy\")"
   ]
  },
  {
   "cell_type": "code",
   "execution_count": null,
   "id": "900c59ab",
   "metadata": {},
   "outputs": [],
   "source": [
    "predicted_cluster = k_means(data)\n",
    "adjusted_rand_score(true_labels, predicted_cluster)"
   ]
  },
  {
   "cell_type": "markdown",
   "id": "d4644e73",
   "metadata": {},
   "source": [
    "### Vizuelizacija podataka i rezultata klasterizacije"
   ]
  },
  {
   "cell_type": "code",
   "execution_count": null,
   "id": "9667e1b1",
   "metadata": {},
   "outputs": [],
   "source": [
    "pcadf = pd.DataFrame(data, columns=[\"component_1\", \"component_2\"])\n",
    "pcadf[\"predicted_cluster\"] = predicted_cluster\n",
    "pcadf[\"true_label\"] = true_labels\n",
    "plt.figure(figsize=(9, 9))\n",
    "\n",
    "scat = sns.scatterplot(\n",
    "    x=\"component_1\",\n",
    "    y=\"component_2\",\n",
    "    s=50,\n",
    "    data=pcadf,\n",
    "    hue=\"predicted_cluster\",\n",
    "    style=\"true_label\",\n",
    "    palette=\"Set2\",\n",
    "    legend=\"auto\"\n",
    ")\n",
    "scat.set_title(\"Clustering results\")\n",
    "plt.xlabel(\"Feature 1\")\n",
    "plt.ylabel(\"Feature 2\")\n",
    "plt.legend(bbox_to_anchor=(1.05, 1), loc=2, borderaxespad=0.0)\n",
    "plt.show()"
   ]
  }
 ],
 "metadata": {
  "kernelspec": {
   "display_name": "Python 3 (ipykernel)",
   "language": "python",
   "name": "python3"
  },
  "language_info": {
   "codemirror_mode": {
    "name": "ipython",
    "version": 3
   },
   "file_extension": ".py",
   "mimetype": "text/x-python",
   "name": "python",
   "nbconvert_exporter": "python",
   "pygments_lexer": "ipython3",
   "version": "3.8.5"
  }
 },
 "nbformat": 4,
 "nbformat_minor": 5
}
