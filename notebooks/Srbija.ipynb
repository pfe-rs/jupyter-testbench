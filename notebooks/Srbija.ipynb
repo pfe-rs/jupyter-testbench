{
 "cells": [
  {
   "cell_type": "markdown",
   "id": "bb76cdaf",
   "metadata": {},
   "source": [
    "# Model nad podacima iz Srbije"
   ]
  },
  {
   "cell_type": "markdown",
   "id": "23e8bde6",
   "metadata": {},
   "source": [
    "Sada ćemo naš model za klasifikaciju namene zemljišta primeniti na podacima iz Srbije. Kao i za bazu na kojoj je model treniran, koristićemo Sentinel 2 podatke ali regije koja odgovara Srbiji. U ovom primeru smo izabrali Sentinel 2 snimke šire okoline Šapca od 30. juna 2021. godine."
   ]
  },
  {
   "cell_type": "code",
   "execution_count": null,
   "id": "ba107186",
   "metadata": {},
   "outputs": [],
   "source": [
    "from os import environ\n",
    "environ[\"OPENCV_IO_ENABLE_JASPER\"] = \"true\"\n",
    "import torch\n",
    "import torch.nn as nn\n",
    "import torch.nn.functional as F\n",
    "import torchvision\n",
    "\n",
    "import cv2\n",
    "\n",
    "import numpy as np\n",
    "\n",
    "from skimage import exposure\n",
    "from sklearn import metrics\n",
    "\n",
    "from matplotlib import pyplot as plt"
   ]
  },
  {
   "cell_type": "markdown",
   "id": "26f7b0ef",
   "metadata": {},
   "source": [
    "U ćeliji ispod učitavamo arhitekturu modela i prilagođavamo je da predviđa 10 klasa (u zadnjoj liniji). Takođe, torch.no_grad(): naglašava da se ne vrši nikakvo treniranje nad modelom unutar njega. Pod nadovnicima je potrebno da navedete putanju do sačuvanog modela na vašem računaru."
   ]
  },
  {
   "cell_type": "code",
   "execution_count": null,
   "id": "d983e356",
   "metadata": {},
   "outputs": [],
   "source": [
    "with torch.no_grad():\n",
    "    model = torchvision.models.resnet50(pretrained=True)\n",
    "    num_features = model.fc.in_features\n",
    "    model.fc = nn.Linear(num_features, 10)\n",
    "\n",
    "device = \"cpu\"\n",
    "model.to(device)\n",
    "\n",
    "model.load_state_dict(torch.load(r\"\", map_location=torch.device(device)))\n",
    "model.eval()\n",
    "print(\"Model ucitan\")"
   ]
  },
  {
   "cell_type": "markdown",
   "id": "df322397",
   "metadata": {},
   "source": [
    "Sami podaci koji predstavljaju Sentinel 2 proizvode kada se raspakuju sadrže veliki broj snimaka i metapodataka. U ovoj vežbanci ćemo se prevashodno fokusirati na slike u vidljivom spektru boja (praktično standardne slike kakve svakodnevno gledamo). Sam satelit ima instrument koji snima u više spektralnih opsega (eng. spectral bands), a nama su od interesa oni koji snimaju na talasnim dužinama crvene zelene i plave boje koji su dovoljni za formiranje slike u boji. U pitanju su spektralni opsezi sa indeksima b02, b03 i b04."
   ]
  },
  {
   "cell_type": "code",
   "execution_count": null,
   "id": "8d48965e",
   "metadata": {},
   "outputs": [],
   "source": [
    "img_path_b02 = r\"datasets/S2A_MSIL2A/T34TCQ_20210630T093041_B02_10m.jp2\"\n",
    "img_path_b03 = r\"datasets/S2A_MSIL2A/T34TCQ_20210630T093041_B03_10m.jp2\"\n",
    "img_path_b04 = r\"datasets/S2A_MSIL2A/T34TCQ_20210630T093041_B04_10m.jp2\""
   ]
  },
  {
   "cell_type": "markdown",
   "id": "10ee8508",
   "metadata": {},
   "source": [
    "Funkcija ispod učitava svaki od snimaka za pojedinačnu boju i onda ih kombinuje u jednu sliku. Kada je pozovemo nad putanjama za svaku od slika imaćemo učitan celokupan snimak u boji. Slike su jako velike, pa ovaj korak može potrajati koji minut."
   ]
  },
  {
   "cell_type": "code",
   "execution_count": null,
   "id": "75a28253",
   "metadata": {},
   "outputs": [],
   "source": [
    "def load_sentinel_2_image_rgb(img_path_b02, img_path_b03, img_path_b04):\n",
    "    img_b02 = cv2.imread(img_path_b02, cv2.IMREAD_ANYCOLOR | cv2.IMREAD_ANYDEPTH)\n",
    "    img_b03 = cv2.imread(img_path_b03, cv2.IMREAD_ANYCOLOR | cv2.IMREAD_ANYDEPTH)\n",
    "    img_b04 = cv2.imread(img_path_b04, cv2.IMREAD_ANYCOLOR | cv2.IMREAD_ANYDEPTH)\n",
    "\n",
    "    rgb = np.zeros((img_b02.shape[0], img_b02.shape[1], 3))\n",
    "    rgb[:, :, 0] = img_b04\n",
    "    rgb[:, :, 1] = img_b03\n",
    "    rgb[:, :, 2] = img_b02\n",
    "\n",
    "    rgb = rgb.astype(np.uint16)\n",
    "\n",
    "    return rgb"
   ]
  },
  {
   "cell_type": "code",
   "execution_count": null,
   "id": "86517437",
   "metadata": {},
   "outputs": [],
   "source": [
    "image = load_sentinel_2_image_rgb(#DOPUNI)"
   ]
  },
  {
   "cell_type": "markdown",
   "id": "4beeb169",
   "metadata": {},
   "source": [
    "Potrebno je da slikama malo promeniti kontrast i osvetljenost tako da bolje odgovaraju observacijama za Srbiju. To je poenta funkcije ispod. Sami parametri modifikacije su ručno izabrani posmatrajući oba domena slika, mada je potpuno moguće i poželjno u praksi ovo uraditi na sistematičan način. Takođe u zavisnosti od primene, potrebno je primeniti i složenije tehnike domenske adaptacije."
   ]
  },
  {
   "cell_type": "code",
   "execution_count": null,
   "id": "187b66fb",
   "metadata": {},
   "outputs": [],
   "source": [
    "def prepare_rgb(image):\n",
    "    p_low, p_high = np.percentile(image, (1, 99))\n",
    "    image = exposure.rescale_intensity(image, in_range=(p_low, p_high))\n",
    "    image = image / image.max()\n",
    "    \n",
    "    image = exposure.adjust_gamma(image, 0.9)\n",
    "    image += 0.05\n",
    "    image = np.clip(image, 0.0, 1.0)\n",
    "\n",
    "    return image"
   ]
  },
  {
   "cell_type": "code",
   "execution_count": null,
   "id": "a1e3da3f",
   "metadata": {},
   "outputs": [],
   "source": [
    "# Шабац - севернији део и река Сава\n",
    "CROP_START_COL = 9584\n",
    "CROP_START_ROW = 4060\n",
    "CROP_SIZE = 512\n",
    "\n",
    "# Шабац - јужнији део\n",
    "# CROP_START_COL = 9423\n",
    "# CROP_START_ROW = 4329\n",
    "# CROP_SIZE = 512\n",
    "\n",
    "# Рума - јужни део\n",
    "# CROP_START_COL = 10383\n",
    "# CROP_START_ROW = 1626\n",
    "# CROP_SIZE = 512\n",
    "\n",
    "# Јарак - цело место и меандар Саве\n",
    "# CROP_START_COL = 9929\n",
    "# CROP_START_ROW = 2348\n",
    "# CROP_SIZE = 512\n",
    "\n",
    "# Вештачко језеро Ровни\n",
    "# CROP_START_COL = 9721\n",
    "# CROP_START_ROW = 9908\n",
    "# CROP_SIZE = 512\n",
    "\n",
    "sample_image_1 = image[CROP_START_ROW:CROP_START_ROW+CROP_SIZE, CROP_START_COL:CROP_START_COL+CROP_SIZE, :]"
   ]
  },
  {
   "cell_type": "markdown",
   "id": "22003b46",
   "metadata": {},
   "source": [
    "U ćeliji ispod prikažite sliku"
   ]
  },
  {
   "cell_type": "code",
   "execution_count": null,
   "id": "434ec889",
   "metadata": {},
   "outputs": [],
   "source": [
    "#DOPUNI"
   ]
  },
  {
   "cell_type": "markdown",
   "id": "4e45bf4d",
   "metadata": {},
   "source": [
    "Naš model mašinskog učenja kao ulaz uzima slike veličine 64x64, dok je naš isečak veličine 512x512. Da bismo obradili ceo isečak moramo ga podeliti u manje isečke veličine 64x64. Takvih isečaka će biti 8 po dužini i 8 po širini, što znači ukupno 64. Tih 64 manjih isečaka će činiti hrpu koju ćemo kao tavku dati mreži i od nje dobiti odgovarajući broj predikcija.\n",
    "\n",
    "Funkcije ispod se bave upravo ovom pripremom. \n",
    "Konkretno, funkcija get_images dati isečak deli u skup malih pločica veličine 64x64, a funkcija prepare_images_for_dnn pakuje tu hrpu pločica u strukturu padataka adekvatne veličine koju veštačka neuralna mreža može da prihvati."
   ]
  },
  {
   "cell_type": "code",
   "execution_count": null,
   "id": "6a91376d",
   "metadata": {},
   "outputs": [],
   "source": [
    "def get_images(image):\n",
    "    image = prepare_rgb(image)\n",
    "\n",
    "    rows = #DOPUNI\n",
    "    cols = #DOPUNI\n",
    "    all_tiles = np.zeros((rows * cols, 64, 64, 3), dtype=np.float32)\n",
    "\n",
    "    for r in range(rows):\n",
    "        for c in range(cols):\n",
    "            all_tiles[r + rows * c, ...] = image[r*64:r*64+64, c*64:c*64+64, :]\n",
    "    \n",
    "    return all_tiles\n",
    "\n",
    "def prepare_images_for_dnn(images):\n",
    "    images_prepared = torch.zeros((images.shape[0], 3, 224, 224))\n",
    "\n",
    "    for i in range(images.shape[0]):\n",
    "\n",
    "            image_resized = cv2.resize(images[i, ...], (224, 224))\n",
    "            img_normalized = image_resized.transpose(2, 0, 1).astype(np.float32)\n",
    "\n",
    "            images_prepared[i, ...] = torch.from_numpy(img_normalized)\n",
    "\n",
    "    return images_prepared"
   ]
  },
  {
   "cell_type": "code",
   "execution_count": null,
   "id": "420fdd91",
   "metadata": {},
   "outputs": [],
   "source": [
    "all_tiles = get_images(image[CROP_START_ROW:CROP_START_ROW+CROP_SIZE, CROP_START_COL:CROP_START_COL+CROP_SIZE, :])\n",
    "tiles_prepared_for_dnn = prepare_images_for_dnn(#DOPUNI).to(device)"
   ]
  },
  {
   "cell_type": "markdown",
   "id": "a007e531",
   "metadata": {},
   "source": [
    "Kao i u prethodnim vežbama potrebno je da model napravi neke predikcije ulaznih podataka"
   ]
  },
  {
   "cell_type": "code",
   "execution_count": null,
   "id": "bdd611cf",
   "metadata": {},
   "outputs": [],
   "source": [
    "with torch.no_grad():\n",
    "    pred = #DOPUNI"
   ]
  },
  {
   "cell_type": "markdown",
   "id": "3588e0c3",
   "metadata": {},
   "source": [
    "Pronađite i štampajte redni broj maksimalnog elementa:"
   ]
  },
  {
   "cell_type": "code",
   "execution_count": null,
   "id": "89e8e3a3",
   "metadata": {},
   "outputs": [],
   "source": [
    "#DOPUNI"
   ]
  },
  {
   "cell_type": "markdown",
   "metadata": {},
   "source": [
    "S obzirom da model predviđa skor za svaku od klasa, je moguće dati i estimaciju verovatnoće sa kojom je model siguran u svoju predikciju. U mašinskom učenju se za te potrebe najčešće koristi sofmax funkcija u koju nećemo dalje zalaziti, ali je dovoljno zapamtiti da ona vektor skorova pretvara u aproksimativnu raspodelu verovatnoće."
   ]
  },
  {
   "cell_type": "code",
   "execution_count": null,
   "metadata": {},
   "outputs": [],
   "source": [
    "with torch.no_grad():\n",
    "    softmaxes = #DOPUNI"
   ]
  },
  {
   "cell_type": "code",
   "execution_count": null,
   "id": "479d2cc3",
   "metadata": {},
   "outputs": [],
   "source": [
    "all_scores = np.take_along_axis(softmaxes.numpy().T, np.expand_dims(argmax.numpy(), 0), 0)\n",
    "print(all_scores)"
   ]
  },
  {
   "cell_type": "markdown",
   "metadata": {},
   "source": [
    "Srednja vrednost:"
   ]
  },
  {
   "cell_type": "code",
   "execution_count": null,
   "id": "b2694dc4",
   "metadata": {},
   "outputs": [],
   "source": [
    "#DOPUNI"
   ]
  }
 ],
 "metadata": {
  "kernelspec": {
   "display_name": "Python 3",
   "language": "python",
   "name": "python3"
  },
  "language_info": {
   "codemirror_mode": {
    "name": "ipython",
    "version": 3
   },
   "file_extension": ".py",
   "mimetype": "text/x-python",
   "name": "python",
   "nbconvert_exporter": "python",
   "pygments_lexer": "ipython3",
   "version": "3.8.8"
  }
 },
 "nbformat": 4,
 "nbformat_minor": 5
}
