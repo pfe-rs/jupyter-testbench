{
 "cells": [
  {
   "cell_type": "code",
   "execution_count": 1,
   "metadata": {},
   "outputs": [],
   "source": [
    "import numpy as np\n",
    "from testbench import Testbench"
   ]
  },
  {
   "cell_type": "markdown",
   "metadata": {},
   "source": [
    "# Naive Bayes\n",
    "\n",
    "U ovoj vežbi implementiramo Naive Bayes algoritam za klasifikaciju.\n",
    "\n",
    "## Promene baze\n",
    "Na dosadašnjoj bazi urađene su dve konkretne promene.\n",
    "#### 1. Klasifikacija je sada **binarna**\n",
    "Smanjen je broj klasa na dve: *not overweight* i *overweight*\n",
    "\n",
    "Ova promena je urađena radi pojednostavljenja vežbe. Naive Bayes je moguće implementirati i za više od dve klase, ali to nije obrađeno u ovoj vežbi.\n",
    "\n",
    "![Nova raspodela](figures/2_classes.png)\n",
    "\n",
    "### 2. Izvršeno je **bucket**-ovanje ulaznih podataka\n",
    "Komponente izračunate PCA algoritmom su realni brojevi, tj. kontinualne vrednosti.\n",
    "\n",
    "Postoji verzija NB algoritma koji radi nad kontinualnim podacima ali zahteva poznavanje raspodele ulaza. Kako bismo zaobišli ovaj problem diskretizovali smo ulaz tako da svim vrednostima iz nekog opsega dodeljujemo istu vrednost (vidi sliku)\n",
    "\n",
    "![Binning](figures/binning.png)\n",
    "\n",
    "U današnjem primeru, oba ulazna feature-a su razdeljena u $N = 21$ bucket-a"
   ]
  },
  {
   "cell_type": "markdown",
   "metadata": {},
   "source": [
    "Algoritam je podeljen u dve funkcije: **train** i **classify**\n",
    "\n",
    "## bayes_train\n",
    "U ovoj funkciji potrebno je na onsovu zadatih podataka i klasa izračunati dve promenljive tipa **np.array**\n",
    "##### 1. apriori_prob\n",
    "Niz od 2 vrednosti koje opisuju verovatnoću pojavljivanja prve i druge klase.\n",
    "\n",
    "Ove verovatnoće računati na osnovu broja pojavljivanja prve i druge klase u datom trening setu.\n",
    "\n",
    "##### 2. conditional_prob\n",
    "Tenzor od tri dimenzije.\n",
    "\n",
    "Svaka vrednost u ovom tenzoru predstavlja uslovnu verovatnoću i to za vrednost **conditional_prob[i, j, k]** indeksi predstavljaju:\n",
    "\n",
    "- *i*: može biti 0 ili 1 i odnosi se na to da li posmatramo principijalnu komponent 1 ili 2 (PC1 ili PC2)\n",
    "- *j*: može imati vrednosti od 0 ili 1 i pokazuje koju od klasa posmatramo za uslovnu verovatnoću\n",
    "- *k*: predstavlja vrednost konkretne komponente (koliko iznosi PC1/PC2)\n"
   ]
  },
  {
   "cell_type": "code",
   "execution_count": 1,
   "metadata": {},
   "outputs": [],
   "source": [
    "def bayes_train(X, Y, num_of_buckets=10):\n",
    "    # Izračunaj apriorne verovatnoće\n",
    "    apriori_prob = np.zeros(2)\n",
    "    ###############\n",
    "    # TODO Popuni #\n",
    "    ###############\n",
    "\n",
    "    # Izračunaj uslovne verovatnoće\n",
    "    conditional_prob = np.zeros((2, 2, num_of_buckets+1))\n",
    "\n",
    "    ###############\n",
    "    # TODO Popuni #\n",
    "    ###############\n",
    "\n",
    "\n",
    "    return apriori_prob, conditional_prob"
   ]
  },
  {
   "cell_type": "code",
   "execution_count": null,
   "metadata": {},
   "outputs": [],
   "source": [
    "Testbench(bayes_train)"
   ]
  },
  {
   "cell_type": "markdown",
   "metadata": {},
   "source": [
    "## classify\n",
    "Funkcija koja na osnovu prethodno izračunatih verovatnoća i zadatih vrednosti **PC1** i **PC2** predviđa kojoj klasi pripada ovaj odbirak.\n",
    "\n",
    "- *Hint*: Pogledati kako se predviđa klasa kod Naive Bayes algoritma sa prezentacije"
   ]
  },
  {
   "cell_type": "code",
   "execution_count": 9,
   "metadata": {},
   "outputs": [],
   "source": [
    "def classify(apriori: np.array, conditional: np.array, pc1: int, pc2: int) -> int:\n",
    "    pc1 = int(pc1)\n",
    "    pc2 = int(pc2)\n",
    "\n",
    "    # Izračunati verovatniju klasu i vratiti 0 ili 1\n",
    "    ###############\n",
    "    # TODO Popuni #\n",
    "    ###############\n",
    "    "
   ]
  },
  {
   "cell_type": "code",
   "execution_count": null,
   "metadata": {},
   "outputs": [],
   "source": [
    "Testbench(classify)"
   ]
  }
 ],
 "metadata": {
  "interpreter": {
   "hash": "767d51c1340bd893661ea55ea3124f6de3c7a262a8b4abca0554b478b1e2ff90"
  },
  "kernelspec": {
   "display_name": "Python 3.8.10 64-bit",
   "name": "python3"
  },
  "language_info": {
   "codemirror_mode": {
    "name": "ipython",
    "version": 3
   },
   "file_extension": ".py",
   "mimetype": "text/x-python",
   "name": "python",
   "nbconvert_exporter": "python",
   "pygments_lexer": "ipython3",
   "version": "3.8.10"
  },
  "orig_nbformat": 4
 },
 "nbformat": 4,
 "nbformat_minor": 2
}
