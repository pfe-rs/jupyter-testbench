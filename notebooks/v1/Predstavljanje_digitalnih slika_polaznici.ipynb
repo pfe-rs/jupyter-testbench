{
 "cells": [
  {
   "cell_type": "code",
   "execution_count": null,
   "id": "2bfb935f-07ed-4766-a262-56e0dd58996e",
   "metadata": {},
   "outputs": [],
   "source": [
    "import skimage\n",
    "from skimage import io"
   ]
  },
  {
   "cell_type": "markdown",
   "id": "966abfd0-8343-4f58-b44c-b473a64d4ee9",
   "metadata": {},
   "source": [
    "## Učitavanje slike"
   ]
  },
  {
   "cell_type": "code",
   "execution_count": null,
   "id": "7ee7da0b-dd93-48e6-bbab-b39307d053e5",
   "metadata": {},
   "outputs": [],
   "source": []
  },
  {
   "cell_type": "markdown",
   "id": "932bf546-38a1-43cd-82a4-afde56ef7440",
   "metadata": {},
   "source": [
    "## Prikaz slike"
   ]
  },
  {
   "cell_type": "code",
   "execution_count": null,
   "id": "a98150c1-5970-434d-a3d2-886714cb3843",
   "metadata": {},
   "outputs": [],
   "source": [
    "%matplotlib inline\n",
    "from matplotlib import pyplot\n",
    "from matplotlib.pyplot import *"
   ]
  },
  {
   "cell_type": "code",
   "execution_count": null,
   "id": "4c45c2c2-535e-4737-8e23-819ffc5d47cf",
   "metadata": {},
   "outputs": [],
   "source": []
  },
  {
   "cell_type": "code",
   "execution_count": null,
   "id": "7e28a59b-660e-4fbe-9201-f5969832e83e",
   "metadata": {},
   "outputs": [],
   "source": []
  },
  {
   "cell_type": "markdown",
   "id": "a7d4e34a-f5dd-40c3-ac9c-00597b6300ed",
   "metadata": {},
   "source": [
    "## Prikaz slike vmin vmax"
   ]
  },
  {
   "cell_type": "code",
   "execution_count": null,
   "id": "87432a85-ca13-4e10-bd81-a647accf350d",
   "metadata": {},
   "outputs": [],
   "source": []
  },
  {
   "cell_type": "markdown",
   "id": "bc9308a6-fbf9-425b-811a-8166a6316387",
   "metadata": {},
   "source": [
    "## Čuvanje slike"
   ]
  },
  {
   "cell_type": "code",
   "execution_count": null,
   "id": "e6d99996-9e45-4837-8028-81acd19d8ad1",
   "metadata": {},
   "outputs": [],
   "source": []
  },
  {
   "cell_type": "markdown",
   "id": "801cc15b-ff97-4cfd-9a27-8c895e8295f7",
   "metadata": {},
   "source": [
    "## Indeksiranje"
   ]
  },
  {
   "cell_type": "code",
   "execution_count": null,
   "id": "77f124d5-c64f-425f-8767-6ec39b78d93b",
   "metadata": {},
   "outputs": [],
   "source": [
    "# učitati sliku einstein.tif ili iskoristiti prethodnu promenljivu\n",
    "\n"
   ]
  },
  {
   "cell_type": "code",
   "execution_count": null,
   "id": "833784b6-80f0-494d-8e75-6a59826c44c1",
   "metadata": {},
   "outputs": [],
   "source": [
    "# kreirati i prikazati mirror-ovanu sliku po horizontali\n",
    "\n"
   ]
  },
  {
   "cell_type": "code",
   "execution_count": null,
   "id": "2f0fb5e6-45b2-4ded-bb9c-7916b048dd8a",
   "metadata": {},
   "outputs": [],
   "source": [
    "# kreirati i prikazati mirror-ovanu sliku po vertikali\n",
    "\n"
   ]
  },
  {
   "cell_type": "code",
   "execution_count": null,
   "id": "e70e2528-416b-4c7f-8e47-55ff12629145",
   "metadata": {},
   "outputs": [],
   "source": [
    "# kreirati i prikazati sliku sa svakim drugim pikselom po obe ose (duplo manju sliku)\n",
    "\n"
   ]
  },
  {
   "cell_type": "code",
   "execution_count": null,
   "id": "4d662009-4070-44ef-a1a5-b082110ad3a8",
   "metadata": {},
   "outputs": [],
   "source": [
    "# kreirati i prikazati sliku koja sadrži samo deo gde je Ajnštajnova glava koordinate: redovi 75 do 150, kolone 95 do 160\n",
    "\n"
   ]
  },
  {
   "cell_type": "markdown",
   "id": "e790680d-70ad-4eba-899d-f710e927e8a8",
   "metadata": {},
   "source": [
    "## Logičko indeksiranje"
   ]
  },
  {
   "cell_type": "code",
   "execution_count": null,
   "id": "53729b6f-1d9d-4b0e-8d82-bdf5bf5b32b6",
   "metadata": {},
   "outputs": [],
   "source": [
    "import scipy\n",
    "from scipy import io\n",
    "import numpy as np\n",
    "\n",
    "DATA =  scipy.io.loadmat('einstein_mask.mat')\n",
    "backgroundMask = DATA['mask']>0"
   ]
  },
  {
   "cell_type": "code",
   "execution_count": null,
   "id": "b951e10a-518a-47ab-b9f9-b26999bedf83",
   "metadata": {},
   "outputs": [],
   "source": [
    "# učitati sliku einstein.tif u promenljivu image i primeniti logičku masku koja ima vrednost 1 na pozicijama koje treba zamaskirati\n",
    "# Maskiranu sliku kreirati dodeljivanjem vrednost 128 gde je maska aktivna i novonastalu sliku sačuvati u promenljivi imageGrayBackground\n",
    "\n",
    "\n"
   ]
  },
  {
   "cell_type": "code",
   "execution_count": null,
   "id": "a736ed82-d2f0-4a0f-a161-d3f37656a467",
   "metadata": {},
   "outputs": [],
   "source": [
    "fig = figure(figsize=(12,4), dpi=200)\n",
    "\n",
    "fig.add_subplot(1,3,1)\n",
    "img = imshow(image, cmap='gray')\n",
    "img.axes.get_xaxis().set_visible(False)\n",
    "img.axes.get_yaxis().set_visible(False)\n",
    "\n",
    "fig.add_subplot(1,3,2)\n",
    "img = imshow(backgroundMask, cmap='gray')\n",
    "img.axes.get_xaxis().set_visible(False)\n",
    "img.axes.get_yaxis().set_visible(False)\n",
    "\n",
    "fig.add_subplot(1,3,3)\n",
    "img = imshow(imageGrayBackground, cmap='gray')\n",
    "img.axes.get_xaxis().set_visible(False)\n",
    "img.axes.get_yaxis().set_visible(False)"
   ]
  }
 ],
 "metadata": {
  "kernelspec": {
   "display_name": "Python 3 (ipykernel)",
   "language": "python",
   "name": "python3"
  },
  "language_info": {
   "codemirror_mode": {
    "name": "ipython",
    "version": 3
   },
   "file_extension": ".py",
   "mimetype": "text/x-python",
   "name": "python",
   "nbconvert_exporter": "python",
   "pygments_lexer": "ipython3",
   "version": "3.8.12"
  }
 },
 "nbformat": 4,
 "nbformat_minor": 5
}
