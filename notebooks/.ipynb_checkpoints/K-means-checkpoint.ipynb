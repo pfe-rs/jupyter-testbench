{
 "cells": [
  {
   "cell_type": "markdown",
   "id": "8392d79f",
   "metadata": {},
   "source": [
    "# Klasterizacija metodom K-srednjih vrednosti"
   ]
  },
  {
   "cell_type": "code",
   "execution_count": 1,
   "id": "e10c7920",
   "metadata": {},
   "outputs": [
    {
     "ename": "ModuleNotFoundError",
     "evalue": "No module named 'testbench'",
     "output_type": "error",
     "traceback": [
      "\u001b[1;31m---------------------------------------------------------------------------\u001b[0m",
      "\u001b[1;31mModuleNotFoundError\u001b[0m                       Traceback (most recent call last)",
      "\u001b[1;32mC:\\Users\\JN2001~1\\AppData\\Local\\Temp/ipykernel_14620/2861248627.py\u001b[0m in \u001b[0;36m<module>\u001b[1;34m\u001b[0m\n\u001b[1;32m----> 1\u001b[1;33m \u001b[1;32mfrom\u001b[0m \u001b[0mtestbench\u001b[0m \u001b[1;32mimport\u001b[0m \u001b[0mTestbench\u001b[0m\u001b[1;33m\u001b[0m\u001b[1;33m\u001b[0m\u001b[0m\n\u001b[0m\u001b[0;32m      2\u001b[0m \u001b[1;32mimport\u001b[0m \u001b[0mrandom\u001b[0m\u001b[1;33m\u001b[0m\u001b[1;33m\u001b[0m\u001b[0m\n\u001b[0;32m      3\u001b[0m \u001b[1;33m\u001b[0m\u001b[0m\n\u001b[0;32m      4\u001b[0m \u001b[1;32mimport\u001b[0m \u001b[0mnumpy\u001b[0m \u001b[1;32mas\u001b[0m \u001b[0mnp\u001b[0m\u001b[1;33m\u001b[0m\u001b[1;33m\u001b[0m\u001b[0m\n\u001b[0;32m      5\u001b[0m \u001b[1;32mimport\u001b[0m \u001b[0mmatplotlib\u001b[0m\u001b[1;33m.\u001b[0m\u001b[0mpyplot\u001b[0m \u001b[1;32mas\u001b[0m \u001b[0mplt\u001b[0m\u001b[1;33m\u001b[0m\u001b[1;33m\u001b[0m\u001b[0m\n",
      "\u001b[1;31mModuleNotFoundError\u001b[0m: No module named 'testbench'"
     ]
    }
   ],
   "source": [
    "from testbench import Testbench\n",
    "import random\n",
    "\n",
    "import numpy as np\n",
    "import matplotlib.pyplot as plt\n",
    "import pandas as pd\n",
    "import seaborn as sns"
   ]
  },
  {
   "cell_type": "code",
   "execution_count": 2,
   "id": "759151dc",
   "metadata": {},
   "outputs": [
    {
     "name": "stdout",
     "output_type": "stream",
     "text": [
      "⚠️ Greška pri kontaktiranju servera za praćenje napretka.\n"
     ]
    }
   ],
   "source": [
    "Testbench.author('Petar Petrović')"
   ]
  },
  {
   "cell_type": "markdown",
   "id": "43e0ddd0",
   "metadata": {},
   "source": [
    "Naredna ćelija predstavlja mesto implementacije funkcije predviđanja klastera zadatih podataka. Kao parametar se funkciji prosleđuju podaci u formatu np.ndarray koji je dvodimenzionalan tako da se u redovima nalaze različite instance a u kolonama su date karakteristike pojedinačnih instanci u obliku brojeva. Neophodno je izvršiti podelu na četiri grupacije tako da je povratna vrednost funkcije u formatu np.ndarray i predstavlja numeričku vrednost koja opisuje kom klasteru zadata instanca odgovara. Ukupan broj redova u nizu je 400.\n",
    "\n",
    "Bitno je da klasteri budu opisani brojevima od 0 do 3 i da je redosled predviđenih klastera za zadate podatke dat u istom redosledu u kom su dati podaci na ulazu. Korišćenje pomoćnih funkcija je dozvoljeno."
   ]
  },
  {
   "cell_type": "code",
   "execution_count": 3,
   "id": "97e7dc78",
   "metadata": {},
   "outputs": [],
   "source": [
    "from sklearn.cluster import KMeans\n",
    "from sklearn.metrics import adjusted_rand_score\n",
    "from sklearn.pipeline import Pipeline\n",
    "from sklearn.preprocessing import MinMaxScaler\n",
    "\n",
    "def k_means(data: np.ndarray) -> np.ndarray:\n",
    "    number_of_clusters = 4\n",
    "    preprocessor = Pipeline(\n",
    "        [\n",
    "            (\"scaler\", MinMaxScaler()),\n",
    "        ]\n",
    "    )\n",
    "    clusterer = Pipeline(\n",
    "        [\n",
    "            (\n",
    "                \"kmeans\",\n",
    "                KMeans(\n",
    "                    n_clusters=number_of_clusters,\n",
    "                    init=\"k-means++\",\n",
    "                    n_init=50,\n",
    "                    max_iter=1000,\n",
    "                    random_state=42,\n",
    "                ),\n",
    "            ),\n",
    "        ]\n",
    "    )\n",
    "    pipe = Pipeline(\n",
    "        [\n",
    "            (\"preprocessor\", preprocessor),\n",
    "            (\"clusterer\", clusterer)\n",
    "        ]\n",
    "    )\n",
    "    pipe.fit(data)\n",
    "    predicted_labels = pipe[\"clusterer\"][\"kmeans\"].labels_\n",
    "\n",
    "    return predicted_labels"
   ]
  },
  {
   "cell_type": "code",
   "execution_count": 4,
   "id": "d40d0bb8",
   "metadata": {},
   "outputs": [
    {
     "name": "stdout",
     "output_type": "stream",
     "text": [
      "⚠️ Funkcija 'k_means' uspešno prolazi 95% testova.\n",
      "⚠️ Greška pri kontaktiranju servera za praćenje napretka.\n"
     ]
    },
    {
     "data": {
      "text/plain": [
       "<testbench.Testbench at 0x1b3a3f05310>"
      ]
     },
     "execution_count": 4,
     "metadata": {},
     "output_type": "execute_result"
    }
   ],
   "source": [
    "Testbench(k_means)"
   ]
  },
  {
   "cell_type": "markdown",
   "id": "87a03651",
   "metadata": {},
   "source": [
    "U narednom segmentu je implementirano generisanje podataka nad kojim se vrši klasterizacija. Datim podacima imate pristup radi eventualnog testiranja koda i modifikacije istog pre pozivanja funkcije Testbench(k_means). "
   ]
  },
  {
   "cell_type": "code",
   "execution_count": 5,
   "id": "9b09e114",
   "metadata": {},
   "outputs": [],
   "source": [
    "def generate_point(mean_x, mean_y, deviation_x, deviation_y):\n",
    "    return random.gauss(mean_x, deviation_x), random.gauss(mean_y, deviation_y)"
   ]
  },
  {
   "cell_type": "code",
   "execution_count": 6,
   "id": "4f6b59db",
   "metadata": {},
   "outputs": [],
   "source": [
    "cluster_mean_x = 50\n",
    "cluster_mean_y = 50\n",
    "cluster_deviation_x = 20\n",
    "cluster_deviation_y = 20\n",
    "point_deviation_x = 5\n",
    "point_deviation_y = 5\n",
    "\n",
    "number_of_clusters = 4\n",
    "points_per_cluster = 50\n",
    "\n",
    "#cluster_centers predstavlja centre oko kojih će se nasumično (sa zadatom devijacijom) generisati po stotinu tačaka\n",
    "#pozivanjem funkcije generate_point\n",
    "#tačke oformljene oko centara klastera se beleže u nizu points\n",
    "cluster_centers = np.array([generate_point(cluster_mean_x,\n",
    "                                           cluster_mean_y,\n",
    "                                           cluster_deviation_x,\n",
    "                                           cluster_deviation_y)\n",
    "                            for _ in range(number_of_clusters)])\n",
    "\n",
    "points = np.array([generate_point(center_x,\n",
    "                                  center_y,\n",
    "                                  point_deviation_x,\n",
    "                                  point_deviation_y)\n",
    "                   for center_x, center_y in cluster_centers\n",
    "                   for _ in range(points_per_cluster)])\n",
    "\n",
    "classes = np.linspace(0, number_of_clusters - 1, number_of_clusters, dtype=int)\n",
    "labels = np.repeat(classes, points_per_cluster)\n",
    "\n",
    "idx = np.random.permutation(len(points))\n",
    "data = points[idx]\n",
    "true_labels = labels[idx]"
   ]
  },
  {
   "cell_type": "markdown",
   "id": "c6ef7d63",
   "metadata": {},
   "source": [
    "Data ćelija služi za pozivanje funkcije k_means nad prethodno generisanim podacima kao i za izračunavanje tačnosti same predikcije korišćenjem funkcije adjusted_rand_score nad promenljivama true_labels i predicted_cluster."
   ]
  },
  {
   "cell_type": "code",
   "execution_count": 7,
   "id": "900c59ab",
   "metadata": {},
   "outputs": [
    {
     "data": {
      "text/plain": [
       "0.8982266098296795"
      ]
     },
     "execution_count": 7,
     "metadata": {},
     "output_type": "execute_result"
    }
   ],
   "source": [
    "predicted_cluster = k_means(data)\n",
    "adjusted_rand_score(true_labels, predicted_cluster)"
   ]
  },
  {
   "cell_type": "markdown",
   "id": "d4644e73",
   "metadata": {},
   "source": [
    "### Vizuelizacija podataka i rezultata klasterizacije"
   ]
  },
  {
   "cell_type": "code",
   "execution_count": 8,
   "id": "9667e1b1",
   "metadata": {},
   "outputs": [
    {
     "data": {
      "image/png": "[encoded data removed]",
      "text/plain": [
       "<Figure size 648x648 with 1 Axes>"
      ]
     },
     "metadata": {
      "needs_background": "light"
     },
     "output_type": "display_data"
    }
   ],
   "source": [
    "pcadf = pd.DataFrame(data, columns=[\"component_1\", \"component_2\"])\n",
    "pcadf[\"predicted_cluster\"] = predicted_cluster\n",
    "pcadf[\"true_label\"] = true_labels\n",
    "plt.figure(figsize=(9, 9))\n",
    "\n",
    "scat = sns.scatterplot(\n",
    "    x=\"component_1\",\n",
    "    y=\"component_2\",\n",
    "    s=50,\n",
    "    data=pcadf,\n",
    "    hue=\"predicted_cluster\",\n",
    "    style=\"true_label\",\n",
    "    palette=\"Set2\",\n",
    "    legend=\"auto\"\n",
    ")\n",
    "scat.set_title(\"Clustering results\")\n",
    "plt.xlabel(\"Feature 1\")\n",
    "plt.ylabel(\"Feature 2\")\n",
    "plt.legend(bbox_to_anchor=(1.05, 1), loc=2, borderaxespad=0.0)\n",
    "plt.show()"
   ]
  },
  {
   "cell_type": "code",
   "execution_count": 9,
   "id": "d432edb2",
   "metadata": {},
   "outputs": [
    {
     "ename": "SyntaxError",
     "evalue": "EOL while scanning string literal (Temp/ipykernel_1368/935887656.py, line 3)",
     "output_type": "error",
     "traceback": [
      "\u001b[1;36m  File \u001b[1;32m\"C:\\Users\\JN2001~1\\AppData\\Local\\Temp/ipykernel_1368/935887656.py\"\u001b[1;36m, line \u001b[1;32m3\u001b[0m\n\u001b[1;33m    plt.scatter(centroids[:,0] , centroids[:,1] , s = 80, color = 'k)\u001b[0m\n\u001b[1;37m                                                                     ^\u001b[0m\n\u001b[1;31mSyntaxError\u001b[0m\u001b[1;31m:\u001b[0m EOL while scanning string literal\n"
     ]
    }
   ],
   "source": [
    "for i in classes:\n",
    "    plt.scatter(df[label == i , 0] , df[label == i , 1] , label = i)\n",
    "plt.scatter(centroids[:,0] , centroids[:,1] , s = 80, color = 'k)\n",
    "plt.legend()\n",
    "plt.show()"
   ]
  }
 ],
 "metadata": {
  "kernelspec": {
   "display_name": "PyCharm (jupyter-testbench)",
   "language": "python",
   "name": "pycharm-4342de7"
  },
  "language_info": {
   "codemirror_mode": {
    "name": "ipython",
    "version": 3
   },
   "file_extension": ".py",
   "mimetype": "text/x-python",
   "name": "python",
   "nbconvert_exporter": "python",
   "pygments_lexer": "ipython3",
   "version": "3.8.5"
  }
 },
 "nbformat": 4,
 "nbformat_minor": 5
}
