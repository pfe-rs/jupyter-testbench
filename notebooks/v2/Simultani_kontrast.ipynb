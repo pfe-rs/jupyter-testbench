{
 "cells": [
  {
   "cell_type": "code",
   "execution_count": 6,
   "metadata": {},
   "outputs": [],
   "source": [
    "%matplotlib inline\n",
    "\n",
    "from pylab import *\n",
    "\n",
    "from __future__ import print_function\n",
    "from ipywidgets import interact, interactive, fixed, interact_manual\n",
    "import ipywidgets as widgets\n",
    "\n",
    "import skimage\n",
    "from skimage import *\n",
    "from skimage.color import *\n",
    "import numpy as np\n",
    "plt.style.use('dark_background')"
   ]
  },
  {
   "cell_type": "code",
   "execution_count": 7,
   "metadata": {},
   "outputs": [],
   "source": [
    "def simultani_kontrast(pozadina_levo=0,objekat_levo=128,pozadina_desno=255, objekat_desno=128):\n",
    "    N = 64\n",
    "    Nhalf = round(N/2)\n",
    "    img = np.zeros((N, 2*N));\n",
    "    img[0:N, 0:N] = pozadina_levo;\n",
    "    img[0:N, N:2*N] = pozadina_desno;\n",
    "    img[Nhalf-2:Nhalf+2, Nhalf-2:Nhalf+2] = objekat_levo;\n",
    "    img[Nhalf-2:Nhalf+2, N+Nhalf-2:N+Nhalf+2] = objekat_desno;\n",
    "    \n",
    "    fig, ax = subplots(figsize=(32, 32), dpi=40)\n",
    "    fig = ax.imshow(img, interpolation='nearest', cmap = 'gray', vmin = 0, vmax = 255)\n",
    "    fig.axes.get_xaxis().set_visible(False)\n",
    "    fig.axes.get_yaxis().set_visible(False)\n",
    "    tight_layout()\n",
    "\n",
    "    return"
   ]
  },
  {
   "cell_type": "code",
   "execution_count": 8,
   "metadata": {},
   "outputs": [
    {
     "data": {
      "application/vnd.jupyter.widget-view+json": {
       "model_id": "1216e94d235d430bb1a8a15870369455",
       "version_major": 2,
       "version_minor": 0
      },
      "text/plain": [
       "interactive(children=(IntSlider(value=0, description='pozadina_levo', max=255), IntSlider(value=128, descripti…"
      ]
     },
     "metadata": {},
     "output_type": "display_data"
    }
   ],
   "source": [
    "interact(simultani_kontrast, pozadina_levo=(0,255,1), objekat_levo=(0,255,1), pozadina_desno=(0,255,1), objekat_desno=(0,255,1));"
   ]
  },
  {
   "cell_type": "code",
   "execution_count": 9,
   "metadata": {},
   "outputs": [],
   "source": [
    "import random as rnd\n",
    "\n",
    "def simultani_kontrast_2(pozadina=0,levo=255,desno=255):\n",
    "    N = 256\n",
    "    block_size = 3;\n",
    "    Nhalf = round(N/2)\n",
    "    R = rnd.randrange(2, N-2, 1);\n",
    "    K = rnd.randrange(2, N-2, 1);\n",
    "    img = np.zeros((N, N));\n",
    "    img[0:N, 0:N] = pozadina;\n",
    "    img[R-block_size:R+block_size, K-block_size:K] = levo;\n",
    "    img[R-block_size:R+block_size, K:K+block_size] = desno;\n",
    "    \n",
    "    fig, ax = subplots(figsize=(32, 32), dpi=20)\n",
    "    fig = ax.imshow(img, interpolation='nearest', cmap = 'gray', vmin = 0, vmax = 255)\n",
    "    fig.axes.get_xaxis().set_visible(False)\n",
    "    fig.axes.get_yaxis().set_visible(False)\n",
    "    tight_layout()\n",
    "\n",
    "    return pozadina, levo, desno"
   ]
  },
  {
   "cell_type": "code",
   "execution_count": 11,
   "metadata": {},
   "outputs": [
    {
     "data": {
      "application/vnd.jupyter.widget-view+json": {
       "model_id": "778297c76a7c4590bb8c797efe03f010",
       "version_major": 2,
       "version_minor": 0
      },
      "text/plain": [
       "interactive(children=(IntSlider(value=0, description='pozadina', max=255), IntSlider(value=255, description='l…"
      ]
     },
     "metadata": {},
     "output_type": "display_data"
    }
   ],
   "source": [
    "interact(simultani_kontrast_2, pozadina=(0,255,1), levo=(0,255,1), desno=(0,255,1));"
   ]
  },
  {
   "cell_type": "markdown",
   "metadata": {},
   "source": [
    "## Mahov efekat"
   ]
  },
  {
   "cell_type": "code",
   "execution_count": 14,
   "metadata": {},
   "outputs": [
    {
     "data": {
      "text/plain": [
       "<matplotlib.image.AxesImage at 0x183d0eb79a0>"
      ]
     },
     "execution_count": 14,
     "metadata": {},
     "output_type": "execute_result"
    },
    {
     "data": {
      "image/png": "[encoded data removed]",
      "text/plain": [
       "<Figure size 1280x320 with 1 Axes>"
      ]
     },
     "metadata": {},
     "output_type": "display_data"
    }
   ],
   "source": [
    "mach = np.zeros((500,2000), dtype='uint8')\n",
    "mach[:, 0:200] = 0\n",
    "mach[:, 200:400] = 25\n",
    "mach[:, 400:600] = 50\n",
    "mach[:, 600:800] = 75\n",
    "mach[:, 800:1000] = 100\n",
    "mach[:, 1000:1200] = 125\n",
    "mach[:, 1200:1400] = 150\n",
    "mach[:, 1400:1600] = 175\n",
    "mach[:, 1600:1800] = 200\n",
    "mach[:, 1800:2000] = 225\n",
    "\n",
    "figure(figsize=(32, 8), dpi=40)\n",
    "imshow(mach, cmap='gray')"
   ]
  },
  {
   "cell_type": "code",
   "execution_count": null,
   "metadata": {},
   "outputs": [],
   "source": []
  }
 ],
 "metadata": {
  "kernelspec": {
   "display_name": "Python 3 (ipykernel)",
   "language": "python",
   "name": "python3"
  },
  "language_info": {
   "codemirror_mode": {
    "name": "ipython",
    "version": 3
   },
   "file_extension": ".py",
   "mimetype": "text/x-python",
   "name": "python",
   "nbconvert_exporter": "python",
   "pygments_lexer": "ipython3",
   "version": "3.8.12"
  }
 },
 "nbformat": 4,
 "nbformat_minor": 4
}
