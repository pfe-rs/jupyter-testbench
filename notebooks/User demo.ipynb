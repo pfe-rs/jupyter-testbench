{
 "cells": [
  {
   "cell_type": "code",
   "execution_count": null,
   "id": "56e26c0e",
   "metadata": {},
   "outputs": [],
   "source": [
    "from testbench import Testbench"
   ]
  },
  {
   "cell_type": "code",
   "execution_count": null,
   "id": "19a73f47",
   "metadata": {},
   "outputs": [],
   "source": [
    "def fibonacci(n: int) -> int:\n",
    "    if n == 0:\n",
    "        return 0\n",
    "    elif n == 1:\n",
    "        return 1\n",
    "    else:\n",
    "        return fibonacci(n - 1) + fibonacci(n - 2)\n",
    "    \n",
    "Testbench(fibonacci)"
   ]
  },
  {
   "cell_type": "code",
   "execution_count": null,
   "id": "e73d3c4f",
   "metadata": {},
   "outputs": [],
   "source": [
    "def factorial(n: int) -> int:\n",
    "    if n <= 1:\n",
    "        return 1\n",
    "    else:\n",
    "        return n * factorial(n - 1)\n",
    "    \n",
    "Testbench(factorial)"
   ]
  },
  {
   "cell_type": "code",
   "execution_count": null,
   "id": "dd28bb0d",
   "metadata": {},
   "outputs": [],
   "source": [
    "def is_even(n: int) -> bool:\n",
    "    return n & 1 == 0\n",
    "\n",
    "Testbench(is_even)"
   ]
  },
  {
   "cell_type": "code",
   "execution_count": null,
   "id": "6bd64b4c",
   "metadata": {},
   "outputs": [],
   "source": [
    "import cv2\n",
    "import numpy as np\n",
    "def binarization(image: np.ndarray) -> np.ndarray:\n",
    "    # 127 for 33% correctness, 129 for 66% correctness\n",
    "    threshold = 128\n",
    "    image_grayscale: np.ndarray = cv2.cvtColor(\n",
    "        image, cv2.COLOR_RGB2GRAY\n",
    "    )\n",
    "    _, image_threshold = cv2.threshold(\n",
    "        image_grayscale, \n",
    "        threshold, 255, \n",
    "        cv2.THRESH_BINARY\n",
    "    )\n",
    "    return image_threshold\n",
    "\n",
    "Testbench(binarization)"
   ]
  }
 ],
 "metadata": {
  "kernelspec": {
   "display_name": "Python 3 (ipykernel)",
   "language": "python",
   "name": "python3"
  },
  "language_info": {
   "codemirror_mode": {
    "name": "ipython",
    "version": 3
   },
   "file_extension": ".py",
   "mimetype": "text/x-python",
   "name": "python",
   "nbconvert_exporter": "python",
   "pygments_lexer": "ipython3",
   "version": "3.9.7"
  }
 },
 "nbformat": 4,
 "nbformat_minor": 5
}
