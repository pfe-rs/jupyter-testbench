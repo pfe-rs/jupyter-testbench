{
 "cells": [
  {
   "cell_type": "code",
   "execution_count": 3,
   "metadata": {},
   "outputs": [],
   "source": [
    "import numpy as np\n",
    "import scipy\n",
    "from scipy.fft import fft\n",
    "import matplotlib as mpl\n",
    "import matplotlib.pyplot as plt\n",
    "from scipy import signal"
   ]
  },
  {
   "cell_type": "markdown",
   "metadata": {},
   "source": [
    "## Vežbe za samostalan rad"
   ]
  },
  {
   "cell_type": "markdown",
   "metadata": {},
   "source": [
    "### Prvi zadatak\n",
    "\n",
    "Napraviti funkciju koja generiše tri sinusoide zadatih frekvencija $f_1$, $f_2$ i $f_1$ i amplituda $A_1$, $A_2$ i $A_3$"
   ]
  },
  {
   "cell_type": "markdown",
   "metadata": {},
   "source": [
    "def zbirTriSinusoide() -> np.array:\n"
   ]
  }
 ],
 "metadata": {
  "interpreter": {
   "hash": "27408ad9a6cf84cef8968aa02d180be2ec57e013a23525a6b3944a973001aba3"
  },
  "kernelspec": {
   "display_name": "Python 3.9.5 64-bit ('myenv': conda)",
   "name": "python3"
  },
  "language_info": {
   "codemirror_mode": {
    "name": "ipython",
    "version": 3
   },
   "file_extension": ".py",
   "mimetype": "text/x-python",
   "name": "python",
   "nbconvert_exporter": "python",
   "pygments_lexer": "ipython3",
   "version": "3.9.5"
  },
  "orig_nbformat": 4
 },
 "nbformat": 4,
 "nbformat_minor": 2
}
