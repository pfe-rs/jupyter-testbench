{
 "cells": [
  {
   "cell_type": "markdown",
   "metadata": {},
   "source": [
    "## Zadatak ptičice i avion\n",
    "### Potrebno je učitati signal cvrkutanja pričica i poletanja aviona, a zatim ga što bolje obraditi tako da se prvenstveno čuje zvuk ptičica "
   ]
  },
  {
   "cell_type": "markdown",
   "metadata": {},
   "source": [
    "#### Potrebne funkcije"
   ]
  },
  {
   "cell_type": "code",
   "execution_count": null,
   "metadata": {},
   "outputs": [],
   "source": [
    "def plotSequence(x, y, plotName = 'MyPlot', plotColor = 'tab:blue', xlims = [], ylims = [], xlabel = '', ylabel = '', showLegend = True):\n",
    "    plt.plot(x, y, color = plotColor, label = plotName)\n",
    "    if xlabel != '':\n",
    "        plt.xlabel(xlabel)\n",
    "    if ylabel != '':\n",
    "        plt.ylabel(ylabel)\n",
    "    if xlims != []:\n",
    "        plt.xlim(xlims)\n",
    "    if ylims != []:\n",
    "        plt.ylim(ylims)\n",
    "    if showLegend:\n",
    "        plt.legend(loc = 'upper right')\n",
    "        \n",
    "def stemSequence(x, y, plotName = 'MyPlot', stemColor = 'tab:blue', xlims = [], ylims = [], xlabel = '', ylabel = '', showLegend = True):\n",
    "    markerline, stemlines, baseline = plt.stem(x, y, stemColor, label = plotName)\n",
    "    plt.setp(markerline, 'markerfacecolor', stemColor, 'markeredgecolor', stemColor)\n",
    "    if xlabel != '':\n",
    "        plt.xlabel(xlabel)\n",
    "    if ylabel != '':\n",
    "        plt.ylabel(ylabel)\n",
    "    if xlims != []:\n",
    "        plt.xlim(xlims)\n",
    "    if ylims != []:\n",
    "        plt.ylim(ylims)\n",
    "    if showLegend:\n",
    "        plt.legend(loc = 'upper right')"
   ]
  },
  {
   "cell_type": "markdown",
   "metadata": {},
   "source": [
    "#### Potrebne biblioteke"
   ]
  },
  {
   "cell_type": "code",
   "execution_count": null,
   "metadata": {},
   "outputs": [],
   "source": [
    "import numpy as np\n",
    "import matplotlib as mpl\n",
    "mpl.rc('font', family = 'serif', size = 20)\n",
    "import matplotlib.pyplot as plt\n",
    "plt.rcParams[\"figure.figsize\"] = (12,4)\n",
    "import IPython\n",
    "from scipy.io import wavfile\n",
    "import scipy.fft as fft\n",
    "import scipy.signal as signal"
   ]
  },
  {
   "cell_type": "markdown",
   "metadata": {},
   "source": [
    "#### Učitavanje signala i i njegov prikaz"
   ]
  },
  {
   "cell_type": "code",
   "execution_count": null,
   "metadata": {},
   "outputs": [],
   "source": [
    "fs, x = wavfile.read('datasets/birds/pticice_avion.wav')\n",
    "IPython.display.display(IPython.display.Audio(x, rate = fs))\n",
    "\n",
    "fMaxShow = 6000\n",
    "\n",
    "N = len(x)\n",
    "X = fft.fft(x)\n",
    "\n",
    "Nmax = fMaxShow*N//fs\n",
    "f = fs*np.arange(Nmax)/N\n",
    "\n",
    "# uzima se deo spektra\n",
    "X = X[:len(f)]\n",
    "\n",
    "plt.figure()\n",
    "plotSequence(f, abs(X), plotName = 'Amplitudska karakteristika', xlabel = r'$f$', ylabel = r'$|X[k]|$')\n",
    "    \n",
    "t = np.arange(len(x))/fs\n",
    "\n",
    "plt.figure()\n",
    "plotSequence(t, x, plotName = 'Signal', xlims = [0, max(t)], xlabel = '$t$ [s]', ylabel = '$x(t)$')"
   ]
  },
  {
   "cell_type": "markdown",
   "metadata": {},
   "source": [
    "#### Funkcija za formiranje spektrograma"
   ]
  },
  {
   "cell_type": "code",
   "execution_count": null,
   "metadata": {},
   "outputs": [],
   "source": [
    "def pfeSpectrogram(x, fs, fMaxShow, Nwin, log = True, window = ('hamming'), noverlap = None, aspect = 3, cmap = 'viridis'):\n",
    "    window = signal.get_window(window, Nwin)\n",
    "    NFFT = Nwin\n",
    "\n",
    "    f, t, Sxx = signal.spectrogram(x, fs = fs, window=window, noverlap = noverlap, nfft=NFFT, return_onesided=True, \n",
    "                                   scaling='spectrum', mode='complex')\n",
    "    \n",
    "    fMaxIndex = NFFT*fMaxShow//fs\n",
    "    \n",
    "    fig, ax = plt.subplots()\n",
    "    \n",
    "    if log:\n",
    "        SXa = 20*np.log10(abs(Sxx[:][:fMaxIndex]));\n",
    "    else:\n",
    "        SXa = abs(Sxx[:][:fMaxIndex])            \n",
    "    \n",
    "    ax.matshow(SXa, extent=[min(t), max(t), min(f), fMaxShow], origin='lower', cmap = cmap)\n",
    "    \n",
    "    im = ax.get_images()\n",
    "    extent =  im[0].get_extent()\n",
    "    ax.set_aspect(abs((extent[1]-extent[0])/(extent[3]-extent[2]))/aspect)\n",
    "    \n",
    "    plt.xlabel('$t$ [s]')\n",
    "    plt.ylabel('$f$ [Hz]')\n"
   ]
  },
  {
   "cell_type": "markdown",
   "metadata": {},
   "source": [
    "#### Plotovanje spektrograma datog signala"
   ]
  },
  {
   "cell_type": "code",
   "execution_count": null,
   "metadata": {},
   "outputs": [],
   "source": [
    "fMaxShow = 10000\n",
    "Nwin = 1000\n",
    "noverlap = Nwin//4\n",
    "pfeSpectrogram(x, fs, fMaxShow, Nwin, noverlap = noverlap, aspect = 3)"
   ]
  },
  {
   "cell_type": "markdown",
   "metadata": {},
   "source": [
    "#### Sa plotovanog spektrograma, potrebno je uočiti frekvencije koje predstavljaju buku koju stvara avion. Kada se logički dodje do zaključka, potrebno ih je otkloniti filtriranjem signala ( zaključiti da li je potreban lowpass, highpass ili bandpass filter)"
   ]
  },
  {
   "cell_type": "code",
   "execution_count": null,
   "metadata": {},
   "outputs": [],
   "source": [
    "# predefinisani parametri za filter\n",
    "\n",
    "transitionBandwidth = 12\n",
    "ripple = 0.05\n",
    "\n",
    "# ovde definisati filter h koji je potrebno primeniti na signal x\n",
    "\n",
    "h = None\n",
    "\n",
    "y = np.convolve(x, h)\n",
    "IPython.display.display(IPython.display.Audio(y, rate = fs))\n"
   ]
  },
  {
   "cell_type": "markdown",
   "metadata": {},
   "source": [
    "#### Prikaz spektrograma pre i posle uklanjanja zvuka aviona"
   ]
  },
  {
   "cell_type": "code",
   "execution_count": null,
   "metadata": {},
   "outputs": [],
   "source": [
    "pfeSpectrogram(y, fs, fMaxShow, Nwin, noverlap = noverlap, aspect = 3)\n",
    "pfeSpectrogram(x, fs, fMaxShow, Nwin, noverlap = noverlap, aspect = 3)"
   ]
  }
 ],
 "metadata": {
  "interpreter": {
   "hash": "27408ad9a6cf84cef8968aa02d180be2ec57e013a23525a6b3944a973001aba3"
  },
  "kernelspec": {
   "display_name": "Python 3.9.5 64-bit ('myenv': conda)",
   "name": "python3"
  },
  "language_info": {
   "codemirror_mode": {
    "name": "ipython",
    "version": 3
   },
   "file_extension": ".py",
   "mimetype": "text/x-python",
   "name": "python",
   "nbconvert_exporter": "python",
   "pygments_lexer": "ipython3",
   "version": "3.9.5"
  }
 },
 "nbformat": 4,
 "nbformat_minor": 2
}
