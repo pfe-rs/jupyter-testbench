{
 "cells": [
  {
   "cell_type": "code",
   "execution_count": 2,
   "metadata": {},
   "outputs": [
    {
     "data": {
      "application/vnd.jupyter.widget-view+json": {
       "model_id": "e8552f4048e946ebaf72e83e72accf71",
       "version_major": 2,
       "version_minor": 0
      },
      "text/plain": [
       "interactive(children=(Dropdown(description='filename', options=('01_guitar_E2.wav', '02_guitar_A2.wav', '03_gu…"
      ]
     },
     "metadata": {},
     "output_type": "display_data"
    }
   ],
   "source": [
    "USE_WIDGETS = False\n",
    "\n",
    "def importEssentialLibs(USE_WIDGETS):\n",
    "    import numpy as np\n",
    "    if USE_WIDGETS:\n",
    "        %matplotlib widget\n",
    "    else:\n",
    "        %matplotlib inline\n",
    "    import matplotlib as mpl\n",
    "    mpl.rc('text', usetex = True)\n",
    "    mpl.rc('font', family = 'serif', size = 18)\n",
    "    import matplotlib.pyplot as plt\n",
    "    \n",
    "    return np, mpl, plt\n",
    "\n",
    "np, mpl, plt = importEssentialLibs(USE_WIDGETS)\n",
    "import scipy.fft as fft\n",
    "\n",
    "import IPython\n",
    "from scipy.io import wavfile\n",
    "\n",
    "import ipywidgets as widgets\n",
    "\n",
    "def loadSignalAndPlotSpectra(filename):\n",
    "    fs, x = wavfile.read(\"datasets/sounds/\"+filename)\n",
    "    IPython.display.display(IPython.display.Audio(x, rate = fs))\n",
    "\n",
    "    N = len(x)\n",
    "    X = fft.fft(x)\n",
    "    \n",
    "    if \"guitar\" in filename:\n",
    "        fMaxShow = 2000\n",
    "    else:\n",
    "        fMaxShow = 6000\n",
    "    \n",
    "    Nmax = fMaxShow*N//fs\n",
    "    f = fs*np.arange(Nmax)/N\n",
    "\n",
    "    # only part of the spectra\n",
    "    X = X[:len(f)];\n",
    "    \n",
    "    # Plot spectra\n",
    "    fig = plt.figure(figsize = [6, 4])\n",
    "    plt.plot(f, abs(X))\n",
    "    plt.subplots_adjust(bottom=0.15, left=0.15)\n",
    "    plt.xlabel(r'$f$ [Hz]')\n",
    "    plt.ylabel(r'$|X[k]|$');\n",
    "    \n",
    "    # Plot signal\n",
    "    fig = plt.figure(figsize = [6, 4])\n",
    "    n = np.arange(N//10, N//10 + 2000)\n",
    "    t = n/fs\n",
    "    plt.plot(t, x[n])\n",
    "    plt.subplots_adjust(bottom=0.15, left=0.15)\n",
    "    plt.xlabel(r'$t$ [s]')\n",
    "    plt.ylabel(r'$x(t)$');\n",
    "     \n",
    "\n",
    "widgets.interact(loadSignalAndPlotSpectra, filename=[\"01_guitar_E2.wav\",  \n",
    "                                                     \"02_guitar_A2.wav\", \n",
    "                                                     \"03_guitar_D3.wav\", \n",
    "                                                     \"04_guitar_G3.wav\",\n",
    "                                                     \"05_guitar_H3.wav\",\n",
    "                                                     \"06_guitar_E4.wav\",\n",
    "                                                     \"07_clarinet_A.wav\",\n",
    "                                                     \"08_violin_H.wav\"]);"
   ]
  }
 ],
 "metadata": {
  "interpreter": {
   "hash": "7a76d9b22bf8d29a2792fd42b67c4c77da7a03d414292f46e671c6aed021b3b3"
  },
  "kernelspec": {
   "display_name": "Python 3.7.8 64-bit ('psiml1': conda)",
   "name": "python3"
  },
  "language_info": {
   "codemirror_mode": {
    "name": "ipython",
    "version": 3
   },
   "file_extension": ".py",
   "mimetype": "text/x-python",
   "name": "python",
   "nbconvert_exporter": "python",
   "pygments_lexer": "ipython3",
   "version": "3.7.8"
  },
  "orig_nbformat": 4
 },
 "nbformat": 4,
 "nbformat_minor": 2
}
