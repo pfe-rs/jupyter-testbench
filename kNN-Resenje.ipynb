{
 "cells": [
  {
   "cell_type": "markdown",
   "id": "687c626c",
   "metadata": {},
   "source": [
    "# K najbližih komšija"
   ]
  },
  {
   "cell_type": "markdown",
   "id": "a44fb364",
   "metadata": {},
   "source": [
    "### Uvoz neophodnih biblioteka i učitavanje podataka"
   ]
  },
  {
   "cell_type": "code",
   "execution_count": null,
   "id": "f43273ca",
   "metadata": {},
   "outputs": [],
   "source": [
    "from testbench import Testbench\n",
    "\n",
    "import numpy as np\n",
    "import matplotlib.pyplot as plt\n",
    "import pandas as pd\n",
    "import seaborn as sns\n",
    "from sklearn.model_selection import train_test_split\n"
   ]
  },
  {
   "cell_type": "markdown",
   "id": "f21248fd",
   "metadata": {},
   "source": [
    "U narednom segmentu se podaci i labele učitavaju iz fajla data_after_pca.csv, koji predstavlja podatke nad kojima ste prethodno radili analizu glavnih komponenti, i dele u trening set i test set. X_train i X_test predstavljaju podatke dok su y_train i y_test odgovarajuće labele datih podataka. "
   ]
  },
  {
   "cell_type": "code",
   "execution_count": null,
   "id": "c5fb3738",
   "metadata": {},
   "outputs": [],
   "source": [
    "df = pd.read_csv(\"datasets/kNN/data_after_pca.csv\")\n",
    "data = []\n",
    "\n",
    "data.append(df[\"PC1\"])\n",
    "data.append(df[\"PC2\"])\n",
    "data = np.array(data)\n",
    "data = np.transpose(data)\n",
    "\n",
    "true_labels = np.array(df[\"NObeyesdad\"])"
   ]
  },
  {
   "cell_type": "code",
   "execution_count": null,
   "id": "bd42fec4",
   "metadata": {},
   "outputs": [],
   "source": [
    "X_train, X_test, y_train, y_test = train_test_split(data, true_labels, test_size = 0.20)"
   ]
  },
  {
   "cell_type": "markdown",
   "id": "397d0862",
   "metadata": {},
   "source": [
    "### Klasifikacija"
   ]
  },
  {
   "cell_type": "markdown",
   "id": "3ace290d",
   "metadata": {},
   "source": [
    "Sledećih nekoliko ćelija predstavlja implementaciju metoda k-nearest neighbours kao i određivanje tačnosti izvršenog predviđanja klasa. U ovom segmentu je neophodno dopuniti i ispraviti naznačene delove koda."
   ]
  },
  {
   "cell_type": "code",
   "execution_count": null,
   "id": "5d57876f",
   "metadata": {},
   "outputs": [],
   "source": [
    "def kNN(X_test: np.ndarray, X_train: np.ndarray, Y_train: np.ndarray) -> np.ndarray:\n",
    "    \n",
    "    #odabrati vrednost k tako da dati algoritam daje što bolji rezultat u zadatom slučaju\n",
    "    k = 15 \n",
    "    \n",
    "    predictions = []\n",
    "   \n",
    "    for test_point in X_test:\n",
    "        min_dist = []\n",
    "        \n",
    "        for i, point in enumerate(X_train):\n",
    "            #za svaku vrednost iz seta za treniranje izračunati Euklidsku distancu od vrednosti iz test seta\n",
    "            # i beležiti u nizu min_dist\n",
    "            #uneti kod ovde\n",
    "            \n",
    "            d1 = (point[0] - test_point[0]) ** 2\n",
    "            d2 = (point[0] - test_point[0]) ** 2\n",
    "            dist = np.sqrt(d1 + d2)\n",
    "            \n",
    "            min_dist.append((i, dist))\n",
    "                \n",
    "        # sortiranje Euklidskih udaljenosti u nerastućem poretku\n",
    "        min_dist.sort(key=lambda x: x[1])\n",
    "\n",
    "        #izvući k vrednosti iz min_dist sa najmanjom distancom i njihove odgovarajuće indekse\n",
    "        #uneti kod ovde\n",
    "        neighbours = min_dist[:k]\n",
    "        idx = []\n",
    "        for i in neighbours:\n",
    "            idx.append(i[0])\n",
    "        #odrediti koja labela datih k vrednosti se najčešće pojavljuje\n",
    "        #uneti kod ovde \n",
    "            \n",
    "            \n",
    "        output = Y_train[idx]\n",
    "        values, counts = np.unique(output, return_counts = True)\n",
    "        \n",
    "        predicted_label = values[np.argmax(counts)]\n",
    "        predictions.append(predicted_label)\n",
    "\n",
    "    return np.array(predictions)\n",
    "\n",
    "Testbench(kNN)"
   ]
  },
  {
   "cell_type": "code",
   "execution_count": null,
   "id": "2d40e361",
   "metadata": {},
   "outputs": [],
   "source": [
    "predictions = kNN(X_test, X_train, y_train)"
   ]
  },
  {
   "cell_type": "code",
   "execution_count": null,
   "id": "d23bb7d5",
   "metadata": {},
   "outputs": [],
   "source": [
    "def accuracy(pred , y_test):\n",
    "    #prepraviti kod tako da računa tačnost klasifikacije kao odnos tačno određenih klasa i ukupnog broja primera\n",
    "\n",
    "    count = 0\n",
    "    \n",
    "    for i in range(len(pred)):\n",
    "        if pred[i] == y_test[i]:\n",
    "            count += 1\n",
    "            \n",
    "    acc = count * 100 / len(pred)\n",
    "            \n",
    "    return acc"
   ]
  },
  {
   "cell_type": "code",
   "execution_count": null,
   "id": "d24040dc",
   "metadata": {},
   "outputs": [],
   "source": [
    "#pozivanje funkcije za računanje tačnosti i štampanje vrednosti\n",
    "print(accuracy(predictions, y_test))"
   ]
  },
  {
   "cell_type": "markdown",
   "id": "c502cf70",
   "metadata": {},
   "source": [
    "### Vizuelizacija rezultata klasifikacije"
   ]
  },
  {
   "cell_type": "code",
   "execution_count": null,
   "id": "6f3e2db8",
   "metadata": {},
   "outputs": [],
   "source": [
    "pcadf_train = pd.DataFrame(X_train, columns=[\"component_1\", \"component_2\"])\n",
    "pcadf_train[\"label\"] = y_train\n",
    "plt.figure(figsize=(9, 9))\n",
    "\n",
    "pcadf = pd.DataFrame(X_test, columns=[\"component_1\", \"component_2\"])\n",
    "pcadf[\"prediction\"] = predictions\n",
    "pcadf[\"label\"] = y_test\n",
    "\n",
    "scat = sns.scatterplot(\n",
    "    x=\"component_1\",\n",
    "    y=\"component_2\",\n",
    "    s=50,\n",
    "    data=pcadf,\n",
    "    hue=\"prediction\",\n",
    "    style=\"label\",\n",
    "    palette=\"Set1\",\n",
    "    legend=\"auto\"\n",
    ")\n",
    "scat.set_title(\"kNN classification results\")\n",
    "plt.xlabel(\"Feature 1\")\n",
    "plt.ylabel(\"Feature 2\")\n",
    "plt.legend(bbox_to_anchor=(1.05, 1), loc=2, borderaxespad=0.0)\n",
    "plt.show()"
   ]
  },
  {
   "cell_type": "code",
   "execution_count": null,
   "id": "a8d33d05",
   "metadata": {},
   "outputs": [],
   "source": []
  }
 ],
 "metadata": {
  "kernelspec": {
   "display_name": "PyCharm (jupyter-testbench)",
   "language": "python",
   "name": "pycharm-4342de7"
  },
  "language_info": {
   "codemirror_mode": {
    "name": "ipython",
    "version": 3
   },
   "file_extension": ".py",
   "mimetype": "text/x-python",
   "name": "python",
   "nbconvert_exporter": "python",
   "pygments_lexer": "ipython3",
   "version": "3.8.5"
  }
 },
 "nbformat": 4,
 "nbformat_minor": 5
}
